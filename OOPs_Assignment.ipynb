{
  "nbformat": 4,
  "nbformat_minor": 0,
  "metadata": {
    "colab": {
      "provenance": []
    },
    "kernelspec": {
      "name": "python3",
      "display_name": "Python 3"
    },
    "language_info": {
      "name": "python"
    }
  },
  "cells": [
    {
      "cell_type": "markdown",
      "source": [
        "1.  Create a parent class Animal with a method speak() that prints a generic message. Create a child class Dog\n",
        "that overrides the speak() method to print \"Bark!\"."
      ],
      "metadata": {
        "id": "gZE3tPdIfY_H"
      }
    },
    {
      "cell_type": "code",
      "source": [
        "class Animal:\n",
        "  def speak(self):\n",
        "    print(\"Animal Sound\")\n",
        "\n",
        "class Dog(Animal):\n",
        "  def speak(self):\n",
        "    print(\"Bark!\")\n",
        "\n",
        "dog = Dog()\n",
        "dog.speak()"
      ],
      "metadata": {
        "colab": {
          "base_uri": "https://localhost:8080/"
        },
        "id": "59C2wiBefcE2",
        "outputId": "9f90274e-d66d-4d58-91a6-25704fad6148"
      },
      "execution_count": 1,
      "outputs": [
        {
          "output_type": "stream",
          "name": "stdout",
          "text": [
            "Bark!\n"
          ]
        }
      ]
    },
    {
      "cell_type": "markdown",
      "source": [
        "2. Write a program to create an abstract class Shape with a method area(). Derive classes Circle and Rectangle\n",
        "from it and implement the area() method in both."
      ],
      "metadata": {
        "id": "tpcSpcr1pH2x"
      }
    },
    {
      "cell_type": "code",
      "source": [
        "import abc\n",
        "class Shape:\n",
        "  def area(self):\n",
        "    pass\n",
        "@abc.abstractmethod\n",
        "class Circle(Shape):\n",
        "  def area(self, r):\n",
        "    return 3.14 * r ** 2\n",
        "@abc.abstractmethod\n",
        "class Rectangle(Shape):\n",
        "  def area(self, l, b):\n",
        "    return l * b\n",
        "\n",
        "c = Circle()\n",
        "print(\"Area of circle\",c.area(7))\n",
        "\n",
        "r = Rectangle()\n",
        "print(\"Area of rectangle\",r.area(4, 5))"
      ],
      "metadata": {
        "colab": {
          "base_uri": "https://localhost:8080/"
        },
        "id": "v6H5UbM9pNk0",
        "outputId": "a355de22-6ada-4225-b69b-cf9bfdb04b40"
      },
      "execution_count": 5,
      "outputs": [
        {
          "output_type": "stream",
          "name": "stdout",
          "text": [
            "Area of circle 153.86\n",
            "Area of rectangle 20\n"
          ]
        }
      ]
    },
    {
      "cell_type": "markdown",
      "source": [
        "3. Implement a multi-level inheritance scenario where a class Vehicle has an attribute type. Derive a class Car\n",
        "and further derive a class ElectricCar that adds a battery attribute."
      ],
      "metadata": {
        "id": "k8tgJBjRtzUz"
      }
    },
    {
      "cell_type": "code",
      "source": [
        "class Vehicle:\n",
        "  def __init__(self, type):\n",
        "    self.type = type\n",
        "\n",
        "class Car(Vehicle):\n",
        "  def __init__(self,type,model):\n",
        "    super().__init__(type)\n",
        "    self.model = model\n",
        "\n",
        "class ElectricCar(Car):\n",
        "  def __init__(self, type, model, battery):\n",
        "    super().__init__(type, model)\n",
        "    self.battery = battery\n",
        "\n",
        "Nexon = ElectricCar(\"eV\",\"nexon\",\"Li ion\")\n",
        "Nexon.battery"
      ],
      "metadata": {
        "colab": {
          "base_uri": "https://localhost:8080/",
          "height": 35
        },
        "id": "31OtVbret6Ks",
        "outputId": "8207122b-e285-4cb6-fe54-d9c152c8e6d9"
      },
      "execution_count": 9,
      "outputs": [
        {
          "output_type": "execute_result",
          "data": {
            "text/plain": [
              "'Li ion'"
            ],
            "application/vnd.google.colaboratory.intrinsic+json": {
              "type": "string"
            }
          },
          "metadata": {},
          "execution_count": 9
        }
      ]
    },
    {
      "cell_type": "markdown",
      "source": [
        "4. Demonstrate polymorphism by creating a base class Bird with a method fly(). Create two derived classes\n",
        "Sparrow and Penguin that override the fly() method.\n"
      ],
      "metadata": {
        "id": "c4Rpf3Fgwo1z"
      }
    },
    {
      "cell_type": "code",
      "source": [
        "class Bird:\n",
        "  def fly(self):\n",
        "    print(\"Birds fly\")\n",
        "\n",
        "class Sparrow(Bird):\n",
        "  def fly(self):\n",
        "    print(\"Sparrow can fly\")\n",
        "\n",
        "class Penguin(Bird):\n",
        "  def fly(self):\n",
        "    print(\"Penguin cannot fly\")\n",
        "\n",
        "b = Bird()\n",
        "b.fly()\n",
        "s = Sparrow()\n",
        "s.fly()\n",
        "p = Penguin()\n",
        "p.fly()"
      ],
      "metadata": {
        "colab": {
          "base_uri": "https://localhost:8080/"
        },
        "id": "m4JS8cxQwux6",
        "outputId": "09817477-75bb-4029-8d7a-432550a91b3a"
      },
      "execution_count": 49,
      "outputs": [
        {
          "output_type": "stream",
          "name": "stdout",
          "text": [
            "Birds fly\n",
            "Sparrow can fly\n",
            "Penguin cannot fly\n"
          ]
        }
      ]
    },
    {
      "cell_type": "markdown",
      "source": [
        "5.  Write a program to demonstrate encapsulation by creating a class BankAccount with private attributes\n",
        "balance and methods to deposit, withdraw, and check balance."
      ],
      "metadata": {
        "id": "l7XMl8wgyqOz"
      }
    },
    {
      "cell_type": "code",
      "source": [
        "class bankAccount:\n",
        "  def __init__(self, balance):\n",
        "    self.__balance = balance\n",
        "  def deposit(self, amount):\n",
        "    self.__balance = self.__balance + amount\n",
        "    return self.__balance\n",
        "  def withdraw(self, amount):\n",
        "    self.__balance = self.__balance - amount\n",
        "    return self.__balance\n",
        "  def check_balance(self):\n",
        "    return self.__balance\n",
        "\n",
        "a = bankAccount(500)\n",
        "print(a.check_balance())\n",
        "a.deposit(200)\n",
        "print(a.check_balance())\n",
        "a.withdraw(400)\n",
        "print(a.check_balance())"
      ],
      "metadata": {
        "colab": {
          "base_uri": "https://localhost:8080/"
        },
        "id": "3FdftGazzEQY",
        "outputId": "c3797666-28fa-4bf0-d19c-114585f462c1"
      },
      "execution_count": 15,
      "outputs": [
        {
          "output_type": "stream",
          "name": "stdout",
          "text": [
            "500\n",
            "700\n",
            "300\n"
          ]
        }
      ]
    },
    {
      "cell_type": "markdown",
      "source": [
        "6. Demonstrate runtime polymorphism using a method play() in a base class Instrument. Derive classes Guitar\n",
        "and Piano that implement their own version of play()."
      ],
      "metadata": {
        "id": "z9GHQRgq2FPn"
      }
    },
    {
      "cell_type": "code",
      "source": [
        "class Instrument:\n",
        "  def play(self):\n",
        "    print(\"Play Instrument\")\n",
        "class Guitar(Instrument):\n",
        "  def play(self,song):\n",
        "    print(\"Play Guitar on\",song)\n",
        "class Piano(Instrument):\n",
        "  def play(self,song,note):\n",
        "    print(\"Play Piano on\",song,note)\n",
        "\n",
        "i = Instrument()\n",
        "i.play()\n",
        "g = Guitar()\n",
        "g.play(\"Rockstar\")\n",
        "p = Piano()\n",
        "p.play(\"Andhadhun\",\"High note\")"
      ],
      "metadata": {
        "colab": {
          "base_uri": "https://localhost:8080/"
        },
        "id": "GB4nSnmB2JmX",
        "outputId": "4d02479e-e455-4475-cfc8-a62c7e7b4685"
      },
      "execution_count": 22,
      "outputs": [
        {
          "output_type": "stream",
          "name": "stdout",
          "text": [
            "Play Instrument\n",
            "Play Guitar on Rockstar\n",
            "Play Piano on Andhadhun High note\n"
          ]
        }
      ]
    },
    {
      "cell_type": "markdown",
      "source": [
        "7. Create a class MathOperations with a class method add_numbers() to add two numbers and a static\n",
        "method subtract_numbers() to subtract two numbers."
      ],
      "metadata": {
        "id": "eHhWDa1S39te"
      }
    },
    {
      "cell_type": "code",
      "source": [
        "class MathOperations:\n",
        "  def add_numbers(self,x,y):\n",
        "    return x+y\n",
        "  @staticmethod\n",
        "  def subtract_numbers(x,y):\n",
        "    return x-y\n",
        "\n",
        "m = MathOperations()\n",
        "print(m.add_numbers(4,5))\n",
        "MathOperations.subtract_numbers(9,2)"
      ],
      "metadata": {
        "colab": {
          "base_uri": "https://localhost:8080/"
        },
        "id": "nEXq9hxp4BUa",
        "outputId": "cf99c42c-11fc-48dc-97dc-b604032b3a94"
      },
      "execution_count": 29,
      "outputs": [
        {
          "output_type": "stream",
          "name": "stdout",
          "text": [
            "9\n"
          ]
        },
        {
          "output_type": "execute_result",
          "data": {
            "text/plain": [
              "7"
            ]
          },
          "metadata": {},
          "execution_count": 29
        }
      ]
    },
    {
      "cell_type": "markdown",
      "source": [
        "8. Implement a class Person with a class method to count the total number of persons created."
      ],
      "metadata": {
        "id": "grk-SYrp61b7"
      }
    },
    {
      "cell_type": "code",
      "source": [
        "class Person:\n",
        "  count = 0\n",
        "  def __init__(self):\n",
        "    Person.count += 1\n",
        "p1 = Person()\n",
        "p2 = Person()\n",
        "p3 = Person()\n",
        "print(Person.count)"
      ],
      "metadata": {
        "colab": {
          "base_uri": "https://localhost:8080/"
        },
        "id": "-iUWdXPb65y1",
        "outputId": "7b055c12-a85e-4e54-904c-c8aa743ce0c9"
      },
      "execution_count": 43,
      "outputs": [
        {
          "output_type": "stream",
          "name": "stdout",
          "text": [
            "3\n"
          ]
        }
      ]
    },
    {
      "cell_type": "markdown",
      "source": [
        "9. Write a class Fraction with attributes numerator and denominator. Override the str method to display the\n",
        "fraction as \"numerator/denominator\"."
      ],
      "metadata": {
        "id": "PQKNxcYu9Hnw"
      }
    },
    {
      "cell_type": "code",
      "source": [
        "class Fraction:\n",
        "  def __init__(self,n,d):\n",
        "    self.numerator = n\n",
        "    self.denominator = d\n",
        "  def __str__(self):\n",
        "    return f\"{self.numerator}/{self.denominator}\"\n",
        "\n",
        "f = Fraction(4,5)\n",
        "print(f)"
      ],
      "metadata": {
        "colab": {
          "base_uri": "https://localhost:8080/"
        },
        "id": "sYG8b1b59Su7",
        "outputId": "066664cf-f0f9-4375-8918-d2425d951e6d"
      },
      "execution_count": 48,
      "outputs": [
        {
          "output_type": "stream",
          "name": "stdout",
          "text": [
            "4/5\n"
          ]
        }
      ]
    },
    {
      "cell_type": "markdown",
      "source": [
        "10. Demonstrate operator overloading by creating a class Vector and overriding the add method to add two\n",
        "vectors."
      ],
      "metadata": {
        "id": "Gf_IOJo6-p5t"
      }
    },
    {
      "cell_type": "code",
      "source": [
        "class Vector:\n",
        "  def __init__(self,a,b):\n",
        "    self.a = a\n",
        "    self.b = b\n",
        "  def add_vector(self,v):\n",
        "    return Vector(self.a + v.a, self.b +v.b)\n",
        "  def __str__(self):\n",
        "    return f\"{self.a}, {self.b}\"\n",
        "\n",
        "v1 = Vector(2,3)\n",
        "v2 = Vector(4,5)\n",
        "v3 = v1.add_vector(v2)\n",
        "print(v3)"
      ],
      "metadata": {
        "colab": {
          "base_uri": "https://localhost:8080/"
        },
        "id": "bcG0REhW-u0u",
        "outputId": "b1dd8e03-adfb-4850-c38f-75676ecbe25f"
      },
      "execution_count": 53,
      "outputs": [
        {
          "output_type": "stream",
          "name": "stdout",
          "text": [
            "6, 8\n"
          ]
        }
      ]
    },
    {
      "cell_type": "markdown",
      "source": [
        "11. Create a class Person with attributes name and age. Add a method greet() that prints \"Hello, my name is\n",
        "{name} and I am {age} years old.\""
      ],
      "metadata": {
        "id": "Os_UXz_JAxYo"
      }
    },
    {
      "cell_type": "code",
      "source": [
        "class Person:\n",
        "  def __init__(self, name, age):\n",
        "    self.name = name\n",
        "    self.age = age\n",
        "  def greet(self):\n",
        "    print(f\"Hello, my name is {self.name} and I am {self.age} years\")\n",
        "p = Person(\"Bhanu\",24)\n",
        "p.greet()"
      ],
      "metadata": {
        "colab": {
          "base_uri": "https://localhost:8080/"
        },
        "id": "h9-b6dLvA2CQ",
        "outputId": "331f6334-1f55-4795-eab7-9665c136e28f"
      },
      "execution_count": 57,
      "outputs": [
        {
          "output_type": "stream",
          "name": "stdout",
          "text": [
            "Hello, my name is Bhanu and I am 24 years\n"
          ]
        }
      ]
    },
    {
      "cell_type": "markdown",
      "source": [
        "12. Implement a class Student with attributes name and grades. Create a method average_grade() to compute\n",
        "the average of the grades."
      ],
      "metadata": {
        "id": "5n6bXYG0CqZV"
      }
    },
    {
      "cell_type": "code",
      "source": [
        "class Student:\n",
        "  def __init__(self, name, grades=[]):\n",
        "    self.name = name\n",
        "    self.grades = grades\n",
        "  def average_grade(self):\n",
        "    avg = sum(self.grades)/len(self.grades)\n",
        "    return avg\n",
        "stud = Student(\"Aman\",[75,80,85,90,95])\n",
        "stud.average_grade()"
      ],
      "metadata": {
        "colab": {
          "base_uri": "https://localhost:8080/"
        },
        "id": "f2E77le9CwXS",
        "outputId": "49c95a1f-2050-4ee9-d52d-047c4856ff18"
      },
      "execution_count": 67,
      "outputs": [
        {
          "output_type": "execute_result",
          "data": {
            "text/plain": [
              "85.0"
            ]
          },
          "metadata": {},
          "execution_count": 67
        }
      ]
    },
    {
      "cell_type": "markdown",
      "source": [
        "13. Create a class Rectangle with methods set_dimensions() to set the dimensions and area() to calculate the\n",
        "area."
      ],
      "metadata": {
        "id": "m64gMUH4FIdB"
      }
    },
    {
      "cell_type": "code",
      "source": [
        "class Rectangle:\n",
        "  def set_dimensions(self,length,breadth):\n",
        "    self.l = length\n",
        "    self.b = breadth\n",
        "  def area(self):\n",
        "    return self.l * self.b\n",
        "r = Rectangle()\n",
        "r.set_dimensions(4,5)\n",
        "r.area()"
      ],
      "metadata": {
        "colab": {
          "base_uri": "https://localhost:8080/"
        },
        "id": "7zp053ToFLjN",
        "outputId": "337923da-8150-4773-b7cb-1020cbf5942f"
      },
      "execution_count": 70,
      "outputs": [
        {
          "output_type": "execute_result",
          "data": {
            "text/plain": [
              "20"
            ]
          },
          "metadata": {},
          "execution_count": 70
        }
      ]
    },
    {
      "cell_type": "markdown",
      "source": [
        "14.  Create a class Employee with a method calculate_salary() that computes the salary based on hours worked\n",
        "and hourly rate. Create a derived class Manager that adds a bonus to the salary."
      ],
      "metadata": {
        "id": "8CrPr3RIGJu2"
      }
    },
    {
      "cell_type": "code",
      "source": [
        "class Employee:\n",
        "  def calculate_salary(self, hours, rate):\n",
        "    salary = hours * rate\n",
        "    return salary\n",
        "class Manager(Employee):\n",
        "  def add_bonus(self, bonus, base_salary):\n",
        "    total_salary = bonus + base_salary\n",
        "    return total_salary\n",
        "m = Manager()\n",
        "salary = m.calculate_salary(40,50)\n",
        "print(salary)\n",
        "print(m.add_bonus(1000, salary))"
      ],
      "metadata": {
        "colab": {
          "base_uri": "https://localhost:8080/"
        },
        "id": "ttCw6asoGP7M",
        "outputId": "9a3e5c3b-3325-4ec0-e290-13db9908169e"
      },
      "execution_count": 75,
      "outputs": [
        {
          "output_type": "stream",
          "name": "stdout",
          "text": [
            "2000\n",
            "3000\n"
          ]
        }
      ]
    },
    {
      "cell_type": "markdown",
      "source": [
        "15. Create a class Product with attributes name, price, and quantity. Implement a method total_price() that\n",
        "calculates the total price of the product."
      ],
      "metadata": {
        "id": "Vrk_M5ZQIXFj"
      }
    },
    {
      "cell_type": "code",
      "source": [
        "class Product:\n",
        "  def __init__(self, name, price, quantity):\n",
        "    self.n = name\n",
        "    self.p = price\n",
        "    self.q = quantity\n",
        "  def total_price(self):\n",
        "    return self.p * self.q\n",
        "p = Product(\"Book\",100,5)\n",
        "p.total_price()"
      ],
      "metadata": {
        "colab": {
          "base_uri": "https://localhost:8080/"
        },
        "id": "FkOjX7p7I1JP",
        "outputId": "f13cc3f7-b897-4ea4-f628-a7825c1b03ed"
      },
      "execution_count": 76,
      "outputs": [
        {
          "output_type": "execute_result",
          "data": {
            "text/plain": [
              "500"
            ]
          },
          "metadata": {},
          "execution_count": 76
        }
      ]
    },
    {
      "cell_type": "markdown",
      "source": [
        "16. Create a class Animal with an abstract method sound(). Create two derived classes Cow and Sheep that\n",
        "implement the sound() method."
      ],
      "metadata": {
        "id": "ZDcv_JXoJjef"
      }
    },
    {
      "cell_type": "code",
      "source": [
        "import abc\n",
        "@abc.abstractmethod\n",
        "class Animal:\n",
        "  def sound(self):\n",
        "    pass\n",
        "@abc.abstractmethod\n",
        "class Cow(Animal):\n",
        "  def sound(self):\n",
        "    print(\"Cow says Moo\")\n",
        "@abc.abstractmethod\n",
        "class Sheep(Animal):\n",
        "  def sound(self):\n",
        "    print(\"Sheep says Baa\")\n",
        "c = Cow()\n",
        "c.sound()\n",
        "s = Sheep()\n",
        "s.sound()"
      ],
      "metadata": {
        "colab": {
          "base_uri": "https://localhost:8080/"
        },
        "id": "jpPVSFwjJnQs",
        "outputId": "c5edb809-aa09-446a-a8a5-82bd4c7e6f21"
      },
      "execution_count": 80,
      "outputs": [
        {
          "output_type": "stream",
          "name": "stdout",
          "text": [
            "Cow says Moo\n",
            "Sheep says Baa\n"
          ]
        }
      ]
    },
    {
      "cell_type": "markdown",
      "source": [
        "17. Create a class Book with attributes title, author, and year_published. Add a method get_book_info() that\n",
        "returns a formatted string with the book's details.\n",
        "\n",
        "\n"
      ],
      "metadata": {
        "id": "-FtDCA7kLV9B"
      }
    },
    {
      "cell_type": "code",
      "source": [
        "class Book:\n",
        "  def __init__(self, title, author, year_published):\n",
        "    self.t = title\n",
        "    self.a = author\n",
        "    self.y = year_published\n",
        "  def get_book_info(self):\n",
        "    return f\"{self.t} by {self.a} published in {self.y}\"\n",
        "b = Book(\"Godan\", \"Premchand\", 1936)\n",
        "b.get_book_info()"
      ],
      "metadata": {
        "colab": {
          "base_uri": "https://localhost:8080/",
          "height": 35
        },
        "id": "blgHKAsHLaiq",
        "outputId": "291166b7-6802-4a28-c820-08a925217735"
      },
      "execution_count": 81,
      "outputs": [
        {
          "output_type": "execute_result",
          "data": {
            "text/plain": [
              "'Godan by Premchand published in 1936'"
            ],
            "application/vnd.google.colaboratory.intrinsic+json": {
              "type": "string"
            }
          },
          "metadata": {},
          "execution_count": 81
        }
      ]
    },
    {
      "cell_type": "markdown",
      "source": [
        "18. Create a class House with attributes address and price. Create a derived class Mansion that adds an\n",
        "attribute number_of_rooms."
      ],
      "metadata": {
        "id": "fgvxHf9FMdb4"
      }
    },
    {
      "cell_type": "code",
      "source": [
        "class House:\n",
        "  def __init__(self, address, price):\n",
        "    self.a = address\n",
        "    self.p = price\n",
        "class Mansion(House):\n",
        "  def __init__(self, address, price, number_of_rooms):\n",
        "    super().__init__(address, price)\n",
        "    self.nor = number_of_rooms\n",
        "  def get_house_info(self):\n",
        "    return f\"Mansion is in {self.a} of {self.p} with {self.nor} rooms\"\n",
        "m = Mansion(\"Delhi\",500,7)\n",
        "m.get_house_info()"
      ],
      "metadata": {
        "colab": {
          "base_uri": "https://localhost:8080/",
          "height": 35
        },
        "id": "9Zl_gXtBMlqh",
        "outputId": "2e4f202e-bb8b-484f-9c6d-d6b3d7689aa8"
      },
      "execution_count": 88,
      "outputs": [
        {
          "output_type": "execute_result",
          "data": {
            "text/plain": [
              "'Mansion is in Delhi of 500 with 7 rooms'"
            ],
            "application/vnd.google.colaboratory.intrinsic+json": {
              "type": "string"
            }
          },
          "metadata": {},
          "execution_count": 88
        }
      ]
    },
    {
      "cell_type": "markdown",
      "source": [
        "THEORY QUESTIONS\n",
        "1. What is Object-Oriented Programming (OOP)?\n",
        "- OOP is a way of programming where object or data is in focus rather than functions and logic."
      ],
      "metadata": {
        "id": "3h6eCO5vPfGJ"
      }
    },
    {
      "cell_type": "markdown",
      "source": [
        "2. What is a class in OOP?\n",
        "- A class is a blue print or template for creating an object."
      ],
      "metadata": {
        "id": "L_s5YTisQVvx"
      }
    },
    {
      "cell_type": "markdown",
      "source": [
        "3.  What is an object in OOP?\n",
        "- An object is an instance of a class representing a real world entity.\n",
        "- Object is a fundamental unit that combines data and functions(methods)."
      ],
      "metadata": {
        "id": "YZ3vEWezQljN"
      }
    },
    {
      "cell_type": "markdown",
      "source": [
        "4. What is the difference between abstraction and encapsulation?\n",
        "- Abstraction >> Focuses on hiding complex implementation details and presenting only essential functionality to the user.\n",
        "- Encapsulation >> Bundles data and methods into a single unit and restrict direct access to protect data integrity."
      ],
      "metadata": {
        "id": "5yrG3JbLRD-S"
      }
    },
    {
      "cell_type": "markdown",
      "source": [
        "5. What are dunder methods in Python?\n",
        "- They provide a way to define how objects of a class behave with built-in functions or operators.\n",
        "- Also known as dunder (double underscore), magic or special methods.\n"
      ],
      "metadata": {
        "id": "QCnsLJ5gSIli"
      }
    },
    {
      "cell_type": "code",
      "source": [
        "# ex: __init__(), __str__(), __repr__(), __len__()"
      ],
      "metadata": {
        "id": "Lae_T8bQTiIc"
      },
      "execution_count": null,
      "outputs": []
    },
    {
      "cell_type": "markdown",
      "source": [
        "6. Explain the concept of inheritance in OOP.\n",
        "- A new class(child/derived/sub) inheriting properties and methods from an existing class(parent/super)."
      ],
      "metadata": {
        "id": "EUSl3JuJTWQI"
      }
    },
    {
      "cell_type": "markdown",
      "source": [
        "7. What is polymorphism in OOP?\n",
        "- Many forms of a same method allowing object of different classes to be treated as objects of a common super class."
      ],
      "metadata": {
        "id": "jLScpRKNTIU-"
      }
    },
    {
      "cell_type": "markdown",
      "source": [
        "8. How is encapsulation achieved in Python?\n",
        "- Encapsulation is achieved by using access modifiers.\n",
        "- public, protected and private"
      ],
      "metadata": {
        "id": "nB71AHPUVD-G"
      }
    },
    {
      "cell_type": "code",
      "source": [
        "class MyClass:\n",
        "  def __init__(self):\n",
        "    self.public = \"public\" #no underscore\n",
        "    self._protected = \"protected\" #single underscore\n",
        "    self.__private = \"private\" #double underscore\n",
        "mc = MyClass()\n",
        "print(mc.public)\n",
        "print(mc._protected)\n",
        "print(mc._MyClass__private)"
      ],
      "metadata": {
        "colab": {
          "base_uri": "https://localhost:8080/"
        },
        "id": "3EFpLzHhVdzz",
        "outputId": "83da6c99-ec8e-441e-e671-37c7dd03364d"
      },
      "execution_count": 89,
      "outputs": [
        {
          "output_type": "stream",
          "name": "stdout",
          "text": [
            "public\n",
            "protected\n",
            "private\n"
          ]
        }
      ]
    },
    {
      "cell_type": "markdown",
      "source": [
        "9. What is a constructor in Python?\n",
        "- A constructor is a special method used to initialize objects of a class.\n",
        "- It is automatically called when an object is created."
      ],
      "metadata": {
        "id": "zNa5IjxHWHtv"
      }
    },
    {
      "cell_type": "code",
      "source": [
        "class Dog:\n",
        "  def __init__(self,name,breed):\n",
        "    self.name = name\n",
        "    self.breed = breed\n",
        "d = Dog(\"Tommy\",\"Labrador\")\n",
        "print(d.name,d.breed)"
      ],
      "metadata": {
        "colab": {
          "base_uri": "https://localhost:8080/"
        },
        "id": "rqQYViVVGPlj",
        "outputId": "1e34638a-8f46-4e36-eb12-f3761d111b0b"
      },
      "execution_count": 1,
      "outputs": [
        {
          "output_type": "stream",
          "name": "stdout",
          "text": [
            "Tommy Labrador\n"
          ]
        }
      ]
    },
    {
      "cell_type": "markdown",
      "source": [
        "10. What are class and static methods in Python?\n",
        "- Class methods >> Bound to class and not to instance of class. They recieve the class as first argument.\n",
        "- Static methods >> Not bound to any class or instance. They are regular functions placed inside class namespace."
      ],
      "metadata": {
        "id": "Xx1wwdQpGjQL"
      }
    },
    {
      "cell_type": "code",
      "source": [
        "class Bike:\n",
        "  def __init__(self,name,price):\n",
        "    self.name = name\n",
        "    self.price = price\n",
        "  @classmethod\n",
        "  def change_price(cls,price):\n",
        "    return price\n",
        "  @staticmethod\n",
        "  def set_price(price):\n",
        "    return price\n",
        "\n",
        "b = Bike(\"Bullet\", 2500)\n",
        "print(b.price)\n",
        "b.change_price(3000)\n",
        "print(b.price)\n",
        "b.set_price(5000)"
      ],
      "metadata": {
        "colab": {
          "base_uri": "https://localhost:8080/"
        },
        "id": "AQIldECVNxaP",
        "outputId": "12b617ca-4b30-4178-9744-8347bae22c5a"
      },
      "execution_count": 16,
      "outputs": [
        {
          "output_type": "stream",
          "name": "stdout",
          "text": [
            "2500\n",
            "2500\n"
          ]
        },
        {
          "output_type": "execute_result",
          "data": {
            "text/plain": [
              "5000"
            ]
          },
          "metadata": {},
          "execution_count": 16
        }
      ]
    },
    {
      "cell_type": "markdown",
      "source": [
        "11. What is method overloading in Python?\n",
        "- Method overloading is the ability to define multiple methods with same name but different parameters."
      ],
      "metadata": {
        "id": "jbxcIXw6RIAg"
      }
    },
    {
      "cell_type": "code",
      "source": [
        "class Calc:\n",
        "  def add(self,a,b,c=0):\n",
        "    return a+b+c\n",
        "\n",
        "c = Calc()\n",
        "print(c.add(2,3))\n",
        "print(c.add(2,3,4))"
      ],
      "metadata": {
        "colab": {
          "base_uri": "https://localhost:8080/"
        },
        "id": "XSFUrHl-Rkva",
        "outputId": "64b63bf9-e8ff-4550-cc79-580ed4bb13b4"
      },
      "execution_count": 17,
      "outputs": [
        {
          "output_type": "stream",
          "name": "stdout",
          "text": [
            "5\n",
            "9\n"
          ]
        }
      ]
    },
    {
      "cell_type": "markdown",
      "source": [
        "12. What is method overriding in OOP?\n",
        "- Method overriding allows the subclass to provide a specific implementation for a method that is alread defined in superclass."
      ],
      "metadata": {
        "id": "BHKmygxtRuKs"
      }
    },
    {
      "cell_type": "code",
      "source": [
        "class Animal:\n",
        "  def sound(self):\n",
        "    return \"Animal sound\"\n",
        "class Dog(Animal):\n",
        "  def sound(self):\n",
        "    return \"Dog Barks!\"\n",
        "class Cat(Animal):\n",
        "  def sound(self):\n",
        "    return \"Cat Meows!\"\n",
        "a = Animal()\n",
        "print(a.sound())\n",
        "d = Dog()\n",
        "print(d.sound())\n",
        "c = Cat()\n",
        "print(c.sound())"
      ],
      "metadata": {
        "colab": {
          "base_uri": "https://localhost:8080/"
        },
        "id": "fpBONwjPSLGZ",
        "outputId": "cd05fd62-f1b0-4c83-85d3-8a32bce31822"
      },
      "execution_count": 19,
      "outputs": [
        {
          "output_type": "stream",
          "name": "stdout",
          "text": [
            "Animal sound\n",
            "Dog Barks!\n",
            "Cat Meows!\n"
          ]
        }
      ]
    },
    {
      "cell_type": "markdown",
      "source": [
        "13.  What is a property decorator in Python?\n",
        "- Propert decorator is a built-in feature that allows methods to access like attributes."
      ],
      "metadata": {
        "id": "GTFHN1CCTPsQ"
      }
    },
    {
      "cell_type": "code",
      "source": [
        "class Circle:\n",
        "  def __init__(self,radius):\n",
        "    self.r = radius\n",
        "  @property\n",
        "  def radius(self):\n",
        "    return self.r\n",
        "  @property\n",
        "  def area(self):\n",
        "    r = self.r\n",
        "    return 3.14 * r ** 2\n",
        "c = Circle(7)\n",
        "c.area #function is accessed as an attribute"
      ],
      "metadata": {
        "colab": {
          "base_uri": "https://localhost:8080/"
        },
        "id": "O6wLCjixTv4C",
        "outputId": "d61e0417-a75f-45e8-8a13-f6f326f7183b"
      },
      "execution_count": 21,
      "outputs": [
        {
          "output_type": "execute_result",
          "data": {
            "text/plain": [
              "153.86"
            ]
          },
          "metadata": {},
          "execution_count": 21
        }
      ]
    },
    {
      "cell_type": "markdown",
      "source": [
        "14. Why is polymorphism important in OOP?\n",
        "- Flexibility and reusability >> Inheritance and subtyping\n",
        "- Enhanced Readability and code structure >> method overriding and overloading\n"
      ],
      "metadata": {
        "id": "XUiwXDdNU6AY"
      }
    },
    {
      "cell_type": "markdown",
      "source": [
        "15. What is an abstract class in Python?\n",
        "- A class which can not be instantiated. Can't create objects directly from it."
      ],
      "metadata": {
        "id": "sFyaQ_DOVg9U"
      }
    },
    {
      "cell_type": "markdown",
      "source": [
        "16. What are the advantages of OOP?\n",
        "- Inheritance >> Inheriting properties from parent class to child class.\n",
        "- Abstraction >> Hinding complex implementation and representing useful.\n",
        "- Polymorphism >> Multiple forms of a method in form of overriding and overloading.\n",
        "- Encapulation >> Binding all the data to keep it secure and unaccessible to public."
      ],
      "metadata": {
        "id": "8wTU1-6rWBVB"
      }
    },
    {
      "cell_type": "markdown",
      "source": [
        "17. What is the difference between a class variable and an instance variable?\n",
        "- Class variable >> Shared by all objects of a class.\n",
        "- Instance variable >> Unique to the each object."
      ],
      "metadata": {
        "id": "eZh4TE-iWZNf"
      }
    },
    {
      "cell_type": "markdown",
      "source": [
        "18.  What is multiple inheritance in Python?\n",
        "- When one or more classes inherit attributes and methods to a single class is called multiple inheritance."
      ],
      "metadata": {
        "id": "ew_uxvqtXQ6E"
      }
    },
    {
      "cell_type": "markdown",
      "source": [
        "19. Explain the purpose of ‘’__str__’ and ‘__repr__’ ‘ methods in Python\n",
        "- These are dunder/magic/special methods in python.\n",
        "- str >> Provide a string to end user which is easy to understand.\n",
        "- repr >> Gives a representation value of the object."
      ],
      "metadata": {
        "id": "NRywdqhrXqnh"
      }
    },
    {
      "cell_type": "markdown",
      "source": [
        "20. What is the significance of the ‘super()’ function in Python?\n",
        "- Subclass can initialize attributes of parent class and ensure inheritance of attributes and methods."
      ],
      "metadata": {
        "id": "6isSaY97YmEX"
      }
    },
    {
      "cell_type": "markdown",
      "source": [
        "21. What is the significance of the __del__ method in Python?\n",
        "- __del__ >> It is a destructor. It's called when object is to be destroyed."
      ],
      "metadata": {
        "id": "uKuylhmSZYCE"
      }
    },
    {
      "cell_type": "markdown",
      "source": [
        "22. What is the difference between @staticmethod and @classmethod in Python?\n",
        "- @staticmethod >> It acts as a reegular function. Don't have access to class objects. Doesn't take self or cls as argument.\n",
        "- @classmethod >> Bound to class and not to object. cls is passed as first argument."
      ],
      "metadata": {
        "id": "VcfAHJYnZp5q"
      }
    },
    {
      "cell_type": "markdown",
      "source": [
        "23. How does polymorphism work in Python with inheritance?\n",
        "- Method overriding with hierarchial inheritance."
      ],
      "metadata": {
        "id": "q4DlXMIfapYP"
      }
    },
    {
      "cell_type": "code",
      "source": [
        "import math\n",
        "class Shape:\n",
        "  def area(self):\n",
        "    pass\n",
        "class Circle(Shape):\n",
        "  def __init__(self, radius):\n",
        "    self.r = radius\n",
        "  def area(self):\n",
        "    return math.pi * self.r **2\n",
        "class Rectangle(Shape):\n",
        "  def __init__(self, length, breadth):\n",
        "    self.l = length\n",
        "    self.b = breadth\n",
        "  def area(self):\n",
        "    return self.l * self.b\n",
        "c = Circle(7)\n",
        "print(c.area())\n",
        "r = Rectangle(5,8)\n",
        "print(r.area())"
      ],
      "metadata": {
        "colab": {
          "base_uri": "https://localhost:8080/"
        },
        "id": "YagqZ8J7bnXC",
        "outputId": "082c334a-dce8-46a6-a991-5c01bde02ce9"
      },
      "execution_count": 25,
      "outputs": [
        {
          "output_type": "stream",
          "name": "stdout",
          "text": [
            "153.93804002589985\n",
            "40\n"
          ]
        }
      ]
    },
    {
      "cell_type": "markdown",
      "source": [
        "24. What is method chaining in Python OOP?\n",
        "- Multiple methods are called sequentially on an object in a single line of code.\n"
      ],
      "metadata": {
        "id": "jd2RBzfXdP-m"
      }
    },
    {
      "cell_type": "markdown",
      "source": [
        "25. What is the purpose of the __call__ method in Python?\n",
        "- __call__ >> Enables instance of a class to be called as a regular function."
      ],
      "metadata": {
        "id": "PJbfmoHAd0wq"
      }
    }
  ]
}