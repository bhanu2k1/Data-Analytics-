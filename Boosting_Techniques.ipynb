{
  "nbformat": 4,
  "nbformat_minor": 0,
  "metadata": {
    "colab": {
      "provenance": []
    },
    "kernelspec": {
      "name": "python3",
      "display_name": "Python 3"
    },
    "language_info": {
      "name": "python"
    }
  },
  "cells": [
    {
      "cell_type": "markdown",
      "source": [
        "BOOSTING TECHNIQUES ASSIGNMENT"
      ],
      "metadata": {
        "id": "riB2vCbpaVkL"
      }
    },
    {
      "cell_type": "markdown",
      "source": [
        "1. What is Boosting in Machine Learning? Explain how it improves weak learners.\n",
        "- Boosting is an iterative ensemble learning technique where multiple weak learners (simple models that perform only slightly better than random guessing) are combined sequentially to create a single, strong predictive model.\n",
        "- It improves weak learners by repeatedly focusing on the errors made by previous models, assigning more weight to misclassified data points.\n",
        "- This iterative process of correcting mistakes reduces bias, leading to an overall more accurate and robust model that can learn complex patterns in the data."
      ],
      "metadata": {
        "id": "0ao3gpedaZvV"
      }
    },
    {
      "cell_type": "markdown",
      "source": [
        "2. What is the difference between AdaBoost and Gradient Boosting in terms of how models are trained?\n",
        "- AdaBoost > Adaptive Sampling focuses on correcting misclassified samples.\n",
        "  - In each iteration, AdaBoost trains a weak learner, then identifies misclassified data points.\n",
        "  - Models become increasingly focused on harder-to-classify examples.\n",
        "- Gradient Boosting > Minimise overall loss function through successive error correction.\n",
        "  - It builds models sequentially, with each new model trying to correct the errors of the previous ones.\n",
        "  - The combined model gradually learns to reduce prediction errors, improving overall accuracy."
      ],
      "metadata": {
        "id": "wn1xeyRzavBo"
      }
    },
    {
      "cell_type": "markdown",
      "source": [
        "3. How does regularization help in XGBoost?\n",
        "- Regularization in XGBoost helps prevent overfitting and improve the generalization ability of the model by controlling its complexity.\n",
        "- It achieves this by adding penalty terms to the objective function, which the algorithm minimizes during training."
      ],
      "metadata": {
        "id": "3O675hixb3yK"
      }
    },
    {
      "cell_type": "markdown",
      "source": [
        "4. Why is CatBoost considered efficient for handling categorical data?\n",
        "- CatBoost is considered efficient for handling categorical data primarily due to its innovative and automatic internal mechanisms, which eliminate the need for extensive manual preprocessing and mitigate common issues like target leakage.\n",
        "- Key reasons for CatBoost's efficiency with categorical data:\n",
        "  - Ordered Target Encoding\n",
        "  - Automatic Handling\n",
        "  - Permutation Driven Pre Sorting\n",
        "  - Feature Combination\n",
        "  - Oblivious Trees"
      ],
      "metadata": {
        "id": "xIJiPzC0cEtN"
      }
    },
    {
      "cell_type": "markdown",
      "source": [
        "5. What are some real-world applications where boosting techniques are preferred over bagging methods?\n",
        "- Boosting outperforms bagging for high bias models and complex prediction models.\n",
        "- Some of the real world examples are:\n",
        "  - Credit Scoring\n",
        "  - Fraud Detection\n",
        "  - Disease Prediction\n",
        "  - Marketing Analytics\n",
        "- Some data mining tasks where precision is paramount."
      ],
      "metadata": {
        "id": "Lxvmgjt8cnE3"
      }
    },
    {
      "cell_type": "markdown",
      "source": [
        "6. Write a Python program to:\n",
        "- Train an AdaBoost Classifier on the Breast Cancer dataset\n",
        "- Print the model accuracy\n"
      ],
      "metadata": {
        "id": "y8ZVFzXWbrOz"
      }
    },
    {
      "cell_type": "code",
      "source": [
        "from sklearn.datasets import load_breast_cancer\n",
        "from sklearn.model_selection import train_test_split\n",
        "from sklearn.ensemble import AdaBoostClassifier\n",
        "from sklearn.metrics import accuracy_score\n",
        "\n",
        "# Load the Breast Cancer dataset\n",
        "data = load_breast_cancer()\n",
        "X, y = data.data, data.target\n",
        "\n",
        "# Split into train and test sets (80% train, 20% test)\n",
        "X_train, X_test, y_train, y_test = train_test_split(\n",
        "    X, y, test_size=0.2, random_state=42, stratify=y\n",
        ")\n",
        "\n",
        "# Initialize AdaBoost Classifier\n",
        "model = AdaBoostClassifier(n_estimators=100, random_state=42)\n",
        "\n",
        "# Train the model\n",
        "model.fit(X_train, y_train)\n",
        "\n",
        "# Make predictions\n",
        "y_pred = model.predict(X_test)\n",
        "\n",
        "# Calculate accuracy\n",
        "accuracy = accuracy_score(y_test, y_pred)\n",
        "\n",
        "# Print results\n",
        "print(\"AdaBoost Classifier Accuracy on Breast Cancer Dataset: {:.2f}%\".format(accuracy * 100))"
      ],
      "metadata": {
        "colab": {
          "base_uri": "https://localhost:8080/"
        },
        "id": "yMSu9TObdk97",
        "outputId": "215f1c94-4236-43ef-95c7-d4a375dd1dae"
      },
      "execution_count": 1,
      "outputs": [
        {
          "output_type": "stream",
          "name": "stdout",
          "text": [
            "AdaBoost Classifier Accuracy on Breast Cancer Dataset: 95.61%\n"
          ]
        }
      ]
    },
    {
      "cell_type": "markdown",
      "source": [
        "7. Write a Python program to:\n",
        "- Train a Gradient Boosting Regressor on the California Housing dataset\n",
        "- Evaluate performance using R-squared score"
      ],
      "metadata": {
        "id": "2yVelF_5dw6f"
      }
    },
    {
      "cell_type": "code",
      "source": [
        "# Import necessary libraries\n",
        "from sklearn.datasets import fetch_california_housing\n",
        "from sklearn.model_selection import train_test_split\n",
        "from sklearn.ensemble import GradientBoostingRegressor\n",
        "from sklearn.metrics import r2_score\n",
        "\n",
        "# Load California Housing dataset\n",
        "data = fetch_california_housing()\n",
        "X, y = data.data, data.target\n",
        "\n",
        "# Split into training and testing sets (80% train, 20% test)\n",
        "X_train, X_test, y_train, y_test = train_test_split(\n",
        "    X, y, test_size=0.2, random_state=42\n",
        ")\n",
        "\n",
        "# Initialize Gradient Boosting Regressor\n",
        "model = GradientBoostingRegressor(n_estimators=200, learning_rate=0.1,\n",
        "                                  max_depth=3, random_state=42)\n",
        "\n",
        "# Train the model\n",
        "model.fit(X_train, y_train)\n",
        "\n",
        "# Make predictions\n",
        "y_pred = model.predict(X_test)\n",
        "\n",
        "# Evaluate using R-squared score\n",
        "r2 = r2_score(y_test, y_pred)\n",
        "\n",
        "# Print result\n",
        "print(\"Gradient Boosting Regressor R-squared Score on California Housing Dataset: {:.4f}\".format(r2))"
      ],
      "metadata": {
        "colab": {
          "base_uri": "https://localhost:8080/"
        },
        "id": "njvZn8RPd2nH",
        "outputId": "313de6c8-0768-4eae-c58c-4acc381b0ea1"
      },
      "execution_count": 2,
      "outputs": [
        {
          "output_type": "stream",
          "name": "stdout",
          "text": [
            "Gradient Boosting Regressor R-squared Score on California Housing Dataset: 0.8004\n"
          ]
        }
      ]
    },
    {
      "cell_type": "markdown",
      "source": [
        "8. Write a Python program to:\n",
        "- Train an XGBoost Classifier on the Breast Cancer dataset\n",
        "- Tune the learning rate using GridSearchCV\n",
        "- Print the best parameters and accuracy\n"
      ],
      "metadata": {
        "id": "rk3tzmXqeAEX"
      }
    },
    {
      "cell_type": "code",
      "source": [
        "# Import necessary libraries\n",
        "from sklearn.datasets import load_breast_cancer\n",
        "from sklearn.model_selection import train_test_split, GridSearchCV\n",
        "from sklearn.metrics import accuracy_score\n",
        "from xgboost import XGBClassifier\n",
        "\n",
        "# Load the Breast Cancer dataset\n",
        "data = load_breast_cancer()\n",
        "X, y = data.data, data.target\n",
        "\n",
        "# Split into train and test sets (80% train, 20% test)\n",
        "X_train, X_test, y_train, y_test = train_test_split(\n",
        "    X, y, test_size=0.2, random_state=42, stratify=y\n",
        ")\n",
        "\n",
        "# Initialize XGBoost Classifier\n",
        "xgb = XGBClassifier(use_label_encoder=False, eval_metric=\"logloss\", random_state=42)\n",
        "\n",
        "# Define parameter grid for learning rate tuning\n",
        "param_grid = {\n",
        "    'learning_rate': [0.01, 0.05, 0.1, 0.2, 0.3]\n",
        "}\n",
        "\n",
        "# Perform GridSearchCV with 5-fold cross-validation\n",
        "grid_search = GridSearchCV(\n",
        "    estimator=xgb,\n",
        "    param_grid=param_grid,\n",
        "    scoring='accuracy',\n",
        "    cv=5,\n",
        "    n_jobs=-1\n",
        ")\n",
        "\n",
        "# Fit the model\n",
        "grid_search.fit(X_train, y_train)\n",
        "\n",
        "# Get the best model\n",
        "best_model = grid_search.best_estimator_\n",
        "\n",
        "# Predict on test set\n",
        "y_pred = best_model.predict(X_test)\n",
        "\n",
        "# Evaluate accuracy\n",
        "accuracy = accuracy_score(y_test, y_pred)\n",
        "\n",
        "# Print results\n",
        "print(\"Best Parameters:\", grid_search.best_params_)\n",
        "print(\"XGBoost Classifier Accuracy on Breast Cancer Dataset: {:.2f}%\".format(accuracy * 100))"
      ],
      "metadata": {
        "colab": {
          "base_uri": "https://localhost:8080/"
        },
        "id": "aoqoTnEsd_Nt",
        "outputId": "37587d2f-c98e-4ed2-bbe0-888087d39e2d"
      },
      "execution_count": 3,
      "outputs": [
        {
          "output_type": "stream",
          "name": "stderr",
          "text": [
            "/usr/local/lib/python3.12/dist-packages/xgboost/training.py:183: UserWarning: [02:19:25] WARNING: /workspace/src/learner.cc:738: \n",
            "Parameters: { \"use_label_encoder\" } are not used.\n",
            "\n",
            "  bst.update(dtrain, iteration=i, fobj=obj)\n"
          ]
        },
        {
          "output_type": "stream",
          "name": "stdout",
          "text": [
            "Best Parameters: {'learning_rate': 0.1}\n",
            "XGBoost Classifier Accuracy on Breast Cancer Dataset: 94.74%\n"
          ]
        }
      ]
    },
    {
      "cell_type": "markdown",
      "source": [
        "9. Write a Python program to:\n",
        "- Train a CatBoost Classifier\n",
        "- Plot the confusion matrix using seaborn"
      ],
      "metadata": {
        "id": "o8aISX1mePoC"
      }
    },
    {
      "cell_type": "code",
      "source": [
        "from sklearn.datasets import load_breast_cancer\n",
        "from sklearn.model_selection import train_test_split\n",
        "from sklearn.metrics import confusion_matrix, accuracy_score\n",
        "import seaborn as sns\n",
        "import matplotlib.pyplot as plt\n",
        "from catboost import CatBoostClassifier\n",
        "\n",
        "# Load dataset\n",
        "data = load_breast_cancer()\n",
        "X, y = data.data, data.target\n",
        "\n",
        "# Train-test split\n",
        "X_train, X_test, y_train, y_test = train_test_split(\n",
        "    X, y, test_size=0.2, random_state=42, stratify=y\n",
        ")\n",
        "\n",
        "# Initialize CatBoost Classifier (silent training)\n",
        "model = CatBoostClassifier(iterations=200, learning_rate=0.1, depth=6, verbose=0, random_state=42)\n",
        "\n",
        "# Train model\n",
        "model.fit(X_train, y_train)\n",
        "\n",
        "# Predict\n",
        "y_pred = model.predict(X_test)\n",
        "\n",
        "# Accuracy\n",
        "accuracy = accuracy_score(y_test, y_pred)\n",
        "print(\"CatBoost Classifier Accuracy: {:.2f}%\".format(accuracy * 100))\n",
        "\n",
        "# Confusion Matrix\n",
        "cm = confusion_matrix(y_test, y_pred)\n",
        "\n",
        "# Plot confusion matrix using seaborn\n",
        "plt.figure(figsize=(6, 4))\n",
        "sns.heatmap(cm, annot=True, fmt='d', cmap=\"Blues\",\n",
        "            xticklabels=data.target_names,\n",
        "            yticklabels=data.target_names)\n",
        "plt.xlabel(\"Predicted\")\n",
        "plt.ylabel(\"Actual\")\n",
        "plt.title(\"Confusion Matrix - CatBoost Classifier\")\n",
        "plt.show()"
      ],
      "metadata": {
        "colab": {
          "base_uri": "https://localhost:8080/",
          "height": 428
        },
        "id": "-VmK7OHQeVvE",
        "outputId": "e4f9098b-6234-4a58-fd17-23cf7b69a3db"
      },
      "execution_count": 6,
      "outputs": [
        {
          "output_type": "stream",
          "name": "stdout",
          "text": [
            "CatBoost Classifier Accuracy: 97.37%\n"
          ]
        },
        {
          "output_type": "display_data",
          "data": {
            "text/plain": [
              "<Figure size 600x400 with 2 Axes>"
            ],
            "image/png": "[encoded data removed]"
          },
          "metadata": {}
        }
      ]
    },
    {
      "cell_type": "markdown",
      "source": [
        "10. You're working for a FinTech company trying to predict loan default using customer demographics and transaction behavior.\n",
        "The dataset is imbalanced, contains missing values, and has both numeric and categorical features.\n",
        "\n",
        "Describe your step-by-step data science pipeline using boosting techniques:\n",
        "- Data preprocessing & handling missing/categorical values\n",
        "- Choice between AdaBoost, XGBoost, or CatBoost\n",
        "- Hyperparameter tuning strategy\n",
        "- Evaluation metrics you'd choose and why\n",
        "- How the business would benefit from your model"
      ],
      "metadata": {
        "id": "F13V9Gwxehf1"
      }
    },
    {
      "cell_type": "markdown",
      "source": [
        "Step 1: Data preprocessing and handling missing values\n",
        "- Handle missing values\n",
        "  - For numeric: Impute with median or let XGBosst/CatBoost handle Nan.\n",
        "  - For categorical: CatBoost can directly handle\n",
        "  "
      ],
      "metadata": {
        "id": "qF556HqQerKh"
      }
    },
    {
      "cell_type": "markdown",
      "source": [
        "Step 2: Handle Class Imbalance\n",
        "- Assign class weight in XGBoost\n",
        "- Use SMOTE on train data if required."
      ],
      "metadata": {
        "id": "yJGcQ5NvyvkU"
      }
    },
    {
      "cell_type": "markdown",
      "source": [
        "Step 3: Choose the boosting algorithm\n",
        "- CatBoost > Best for categorical features and missing values.\n",
        "- XGBoost > Strong baseline widely used for imbalanced class data.\n",
        "- AdaBoost > Simple but weaker for complex tabular data."
      ],
      "metadata": {
        "id": "2_dLitjVzJG8"
      }
    },
    {
      "cell_type": "markdown",
      "source": [
        "Step 4: Train data & Hyperparameter Tuning\n",
        "- Use train test validation split of data\n",
        "- Tune parameters like\n",
        "  - learning_rate\n",
        "  - depth / max_depth\n",
        "  - n_estimators (with early stopping)\n",
        "  - l2_regularization\n",
        "  - class_weights\n",
        "- Use GridSearchCV or RandomizedSeaarchCV for tuning."
      ],
      "metadata": {
        "id": "CWmlWi5Tzqha"
      }
    },
    {
      "cell_type": "markdown",
      "source": [
        "Step 5: Model Evaluation\n",
        "- Since data is imbalanced, use these metrics just than accuracy.\n",
        "  - ROC-AUC\n",
        "  - F1 -recall\n",
        "  - Confusion matrix"
      ],
      "metadata": {
        "id": "4JyiGQmg0PWW"
      }
    },
    {
      "cell_type": "markdown",
      "source": [
        "Business benefits are:\n",
        "- Reduce Credit Losses\n",
        "- Increase Safe Approvals\n",
        "- Risk Based Pricing\n",
        "- Better Regulatory Compliance"
      ],
      "metadata": {
        "id": "l57fzrto0m9j"
      }
    }
  ]
}