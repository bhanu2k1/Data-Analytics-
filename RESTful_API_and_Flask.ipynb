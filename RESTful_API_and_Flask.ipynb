{
  "nbformat": 4,
  "nbformat_minor": 0,
  "metadata": {
    "colab": {
      "provenance": []
    },
    "kernelspec": {
      "name": "python3",
      "display_name": "Python 3"
    },
    "language_info": {
      "name": "python"
    }
  },
  "cells": [
    {
      "cell_type": "markdown",
      "source": [
        "1.  How do you create a basic Flask application?"
      ],
      "metadata": {
        "id": "nffka7qDSVAa"
      }
    },
    {
      "cell_type": "code",
      "source": [
        "from flask import Flask\n",
        "app = Flask(__name__)\n",
        "@app.route('/hello')\n",
        "def home():\n",
        "  return \"Welcome to home page\"\n",
        "if __name__ == \"__main__\":\n",
        "  app.run(debug = True)"
      ],
      "metadata": {
        "id": "vxriv3NlSZFV"
      },
      "execution_count": null,
      "outputs": []
    },
    {
      "cell_type": "markdown",
      "source": [
        "2. How do you serve static files like images or CSS in Flask?"
      ],
      "metadata": {
        "id": "8G4KKRrmTZSp"
      }
    },
    {
      "cell_type": "code",
      "source": [
        "@app.route('image')\n",
        "def image():\n",
        "  return render_template('image.html')"
      ],
      "metadata": {
        "id": "bcrqDUCgThgR"
      },
      "execution_count": null,
      "outputs": []
    },
    {
      "cell_type": "markdown",
      "source": [
        "3. How do you define different routes with different HTTP methods in Flask?"
      ],
      "metadata": {
        "id": "4XFXKisLU5jq"
      }
    },
    {
      "cell_type": "code",
      "source": [
        "@app.route('/create', methods=['POST'])\n",
        "def create():\n",
        "  return render_template('create.html')\n",
        "\n",
        "@app.route('/retrieve', methods=['GET'])\n",
        "def get_data():\n",
        "  return \"Get data of the user\"\n",
        "\n",
        "@app.route('/update', methods=['PUT'])\n",
        "def update():\n",
        "  return \"Update data of the user\"\n",
        "\n",
        "@app.route('/delete', methods=['DELETE'])\n",
        "def delete():\n",
        "  return \"Delete data of the user\""
      ],
      "metadata": {
        "id": "yywHjL94U9jn"
      },
      "execution_count": null,
      "outputs": []
    },
    {
      "cell_type": "markdown",
      "source": [
        "4. How do you render HTML templates in Flask?"
      ],
      "metadata": {
        "id": "yLKAeLkyV0in"
      }
    },
    {
      "cell_type": "code",
      "source": [
        "@app.route('/')\n",
        "def home():\n",
        "  return render_template('home.html')"
      ],
      "metadata": {
        "id": "voxvk-eYV4OK"
      },
      "execution_count": null,
      "outputs": []
    },
    {
      "cell_type": "markdown",
      "source": [
        "5. How can you generate URLs for routes in Flask using url_for?"
      ],
      "metadata": {
        "id": "S8tjev-9WGBT"
      }
    },
    {
      "cell_type": "code",
      "source": [
        "@app.route('/create')\n",
        "def create():\n",
        "  return render_template('create.html')"
      ],
      "metadata": {
        "id": "gKjygI7CWJKW"
      },
      "execution_count": null,
      "outputs": []
    },
    {
      "cell_type": "markdown",
      "source": [
        "6. How do you handle forms in Flask?"
      ],
      "metadata": {
        "id": "KNArc-dIXIsY"
      }
    },
    {
      "cell_type": "code",
      "source": [
        "@app.route('/read_form', methods=['POST'])\n",
        "def read_form():\n",
        "  data ={\"Name\":\"Bhanu\", \"Age\":24, \"City\":\"New Delhi\", \"Sex\":\"M\"}\n",
        "  return jsonify(data)"
      ],
      "metadata": {
        "id": "3CKXJx7xXMwd"
      },
      "execution_count": null,
      "outputs": []
    },
    {
      "cell_type": "markdown",
      "source": [
        "7. How can you validate form data in Flask?"
      ],
      "metadata": {
        "id": "YvM82Zf6YUHh"
      }
    },
    {
      "cell_type": "code",
      "source": [
        "@app.route('/form_data', methods=['GET', 'POST'])\n",
        "   def validate_form():\n",
        "       form = MyForm()\n",
        "       if form.validate_on_submit():\n",
        "           name = form.name.data\n",
        "           age = form.age.data\n",
        "           email = form.email.data\n",
        "           return f\"Name: {name}, Age: {age}, Email: {email}\"\n",
        "       return render_template('index.html', form=form)"
      ],
      "metadata": {
        "id": "1LhRnlYWYZIw"
      },
      "execution_count": null,
      "outputs": []
    },
    {
      "cell_type": "markdown",
      "source": [
        "8. How do you manage sessions in Flask?"
      ],
      "metadata": {
        "id": "n2GzWRIDY4JT"
      }
    },
    {
      "cell_type": "code",
      "source": [
        "from Flask import flask, session\n",
        "\n",
        "\n",
        "@app.route('/set_session/<name>')\n",
        "    def set_session(name):\n",
        "        session['name'] = name\n",
        "        return f'Session variable set to {name}'\n",
        "\n",
        "@app.route('/get_session')\n",
        "    def get_session():\n",
        "        if 'name' in session:\n",
        "            name = session['name']\n",
        "            return f'Hello {name}!'\n",
        "        else:\n",
        "            return 'Session variable not found'"
      ],
      "metadata": {
        "id": "VD4gAKVpY9_h"
      },
      "execution_count": null,
      "outputs": []
    },
    {
      "cell_type": "markdown",
      "source": [
        "9.  How do you redirect to a different route in Flask?"
      ],
      "metadata": {
        "id": "PPxJMOMCs7UY"
      }
    },
    {
      "cell_type": "code",
      "source": [
        "from flask import Flask, redirect, url_for\n",
        "@app.route('/old_route')\n",
        "  def old_route():\n",
        "    return redirect(url_for('new_route'))\n",
        "\n",
        "@app.route('/new_route')\n",
        "  def new_route():\n",
        "    return \"You've been redirected to the new route!\"\n",
        "\n",
        "@app.route('/external_redirect')\n",
        "  def external_redirect():\n",
        "    return redirect(\"https://www.example.com\")"
      ],
      "metadata": {
        "id": "01MccavltLip"
      },
      "execution_count": null,
      "outputs": []
    },
    {
      "cell_type": "markdown",
      "source": [
        "10. How do you handle errors in Flask (e.g., 404)?"
      ],
      "metadata": {
        "id": "-TClhx_7toWm"
      }
    },
    {
      "cell_type": "code",
      "source": [
        "    from flask import Flask, render_template, abort\n",
        "\n",
        "    app = Flask(__name__)\n",
        "\n",
        "    @app.errorhandler(404)\n",
        "    def page_not_found(e):\n",
        "        return render_template('404.html'), 404\n",
        "\n",
        "    @app.route('/')\n",
        "    def index():\n",
        "        return \"Hello, World!\"\n",
        "\n",
        "    @app.route('/item/<item_id>')\n",
        "    def get_item(item_id):\n",
        "        if item_id not in [\"1\", \"2\", \"3\"]:\n",
        "            abort(404)  # Simulate a 404 error for unknown item_id\n",
        "        return f\"Item ID: {item_id}\"\n",
        "\n",
        "    if __name__ == '__main__':\n",
        "        app.run(debug=True)"
      ],
      "metadata": {
        "id": "RRCQ3jW8tr4x"
      },
      "execution_count": null,
      "outputs": []
    },
    {
      "cell_type": "markdown",
      "source": [
        "11. How do you structure a Flask app using Blueprints?"
      ],
      "metadata": {
        "id": "s4_7wFoIt4NV"
      }
    },
    {
      "cell_type": "code",
      "source": [
        "from Flask import Blueprint\n",
        "auth_bp = Blueprint('auth_bp', __name__, template_folder='templates', statci_folder='static')\n",
        "@auth_bp.route('/login')\n",
        "def login():\n",
        "  return \"Login\""
      ],
      "metadata": {
        "id": "QIyrNHv0t9t8"
      },
      "execution_count": null,
      "outputs": []
    },
    {
      "cell_type": "code",
      "source": [
        "from flask import Flask\n",
        "from blueprints.auth import auth_bp\n",
        "# Assuming 'blueprints' is a folder containing auth.py\n",
        "\n",
        "app = Flask(__name__)\n",
        "\n",
        "# Register the blueprint\n",
        "app.register_blueprint(auth_bp, url_prefix='/auth')\n",
        "\n",
        "@app.route('/')\n",
        "def index():\n",
        "    return \"Welcome to the main page!\"\n",
        "\n",
        "if __name__ == '__main__':\n",
        "    app.run(debug=True)"
      ],
      "metadata": {
        "id": "QkZo7DBIu2TD"
      },
      "execution_count": null,
      "outputs": []
    },
    {
      "cell_type": "markdown",
      "source": [
        "12. How do you define a custom Jinja filter in Flask?"
      ],
      "metadata": {
        "id": "MmyYeJRKup2J"
      }
    },
    {
      "cell_type": "code",
      "source": [
        "from flask import Flask, render_template\n",
        "\n",
        "app = Flask(__name__)\n",
        "\n",
        "def uppercase_filter(s):\n",
        "    return s.upper()\n",
        "\n",
        "app.jinja_env.filters['uppercase'] = uppercase_filter\n",
        "\n",
        "@app.route('/')\n",
        "def index():\n",
        "    my_string = \"Hello Flask\"\n",
        "    return render_template('index.html', my_string=my_string)"
      ],
      "metadata": {
        "id": "28c8Dvq1vDKD"
      },
      "execution_count": null,
      "outputs": []
    },
    {
      "cell_type": "markdown",
      "source": [
        "13.  How can you redirect with query parameters in Flask?"
      ],
      "metadata": {
        "id": "vOEftGwBvT59"
      }
    },
    {
      "cell_type": "code",
      "source": [
        "from flask import Flask, url_for, redirect\n",
        "    app = Flask(__name__)\n",
        "@app.route('/')\n",
        "def index():\n",
        "  return 'Welcome to the index page!'\n",
        "\n",
        "@app.route('/target_page')\n",
        "def target_page():\n",
        "  return 'You reached the target page!'\n",
        "@app.route('/redirect_with_params')\n",
        "def redirect_with_params():\n",
        "  return redirect(url_for('target_page', param1='value1', param2='value2'))"
      ],
      "metadata": {
        "id": "yL0-51_jvpvO"
      },
      "execution_count": null,
      "outputs": []
    },
    {
      "cell_type": "markdown",
      "source": [
        "14. How do you return JSON responses in Flask?"
      ],
      "metadata": {
        "id": "4n-i_ECCwE2E"
      }
    },
    {
      "cell_type": "code",
      "source": [
        "from flask import Flask, jsonify\n",
        "\n",
        "app = Flask(__name__)\n",
        "\n",
        "@app.route('/api/hello')\n",
        "def hello_json():\n",
        "    response_data = {\n",
        "        \"message\": \"Hello from Flask!\",\n",
        "        \"status\": \"success\"\n",
        "    }\n",
        "    return jsonify(response_data)\n",
        "\n",
        "if __name__ == '__main__':\n",
        "    app.run(debug=True)"
      ],
      "metadata": {
        "id": "jOwYTlb9wJXg"
      },
      "execution_count": null,
      "outputs": []
    },
    {
      "cell_type": "markdown",
      "source": [
        "15. How do you capture URL parameters in Flask?"
      ],
      "metadata": {
        "id": "1w35zX7iwKJ-"
      }
    },
    {
      "cell_type": "code",
      "source": [
        "    from flask import Flask, request\n",
        "\n",
        "    app = Flask(__name__)\n",
        "\n",
        "    @app.route('/search')\n",
        "    def search():\n",
        "        query = request.args.get('q')\n",
        "        category = request.args.get('category')\n",
        "        return f\"Searching for '{query}' in category '{category}'\"\n",
        "\n",
        "    if __name__ == '__main__':\n",
        "        app.run(debug=True)"
      ],
      "metadata": {
        "id": "jtYlXGmZwWOm"
      },
      "execution_count": null,
      "outputs": []
    },
    {
      "cell_type": "code",
      "source": [
        "    from flask import Flask\n",
        "\n",
        "    app = Flask(__name__)\n",
        "\n",
        "    @app.route('/users/<int:user_id>')\n",
        "    def get_user_profile(user_id):\n",
        "        return f\"User ID: {user_id}\"\n",
        "\n",
        "    @app.route('/products/<string:product_name>')\n",
        "    def get_product_details(product_name):\n",
        "        return f\"Product Name: {product_name}\"\n",
        "\n",
        "    if __name__ == '__main__':\n",
        "        app.run(debug=True)"
      ],
      "metadata": {
        "id": "2LtkYDDowhrZ"
      },
      "execution_count": null,
      "outputs": []
    },
    {
      "cell_type": "markdown",
      "source": [
        "THEORY QUESTIONS"
      ],
      "metadata": {
        "id": "pzZWOZnXZPzC"
      }
    },
    {
      "cell_type": "markdown",
      "source": [
        "1. What is a RESTful API?\n",
        "- REST API is a way for computer systems to exchange information over the internet. REST is Representational State Transfer."
      ],
      "metadata": {
        "id": "Tb_l9TYqZSX9"
      }
    },
    {
      "cell_type": "markdown",
      "source": [
        "2. Explain the concept of API specification.\n",
        "- API specification is a formal document that outlines how an API should function and interact with other systems."
      ],
      "metadata": {
        "id": "aG5Q2XqdZxLi"
      }
    },
    {
      "cell_type": "markdown",
      "source": [
        "3. What is Flask, and why is it popular for building APIs?\n",
        "- Flask is a lightweight microframework popular for building RESTful APIs due to it's flexibility and simplicity with scalability."
      ],
      "metadata": {
        "id": "0ZGbEfXcaeLf"
      }
    },
    {
      "cell_type": "markdown",
      "source": [
        "4. What is routing in Flask?\n",
        "- Routing is a mechanism to map specific URLs to python functions.\n",
        "- Done by using @app.route('/about')"
      ],
      "metadata": {
        "id": "xtDmw_bAa6iV"
      }
    },
    {
      "cell_type": "markdown",
      "source": [
        "5. How do you create a simple Flask application?\n"
      ],
      "metadata": {
        "id": "dFk-wg-abPPL"
      }
    },
    {
      "cell_type": "code",
      "source": [
        "import flask from Flask\n",
        "app = Flask(__name__)\n",
        "@app.route('/')\n",
        "def home():\n",
        "  return \"Welcome to home page\"\n",
        "if __name__ == \"__main__\":\n",
        "  app.run(debug=True)"
      ],
      "metadata": {
        "id": "Ix4xG9nUSB-X"
      },
      "execution_count": null,
      "outputs": []
    },
    {
      "cell_type": "markdown",
      "source": [
        "6. What are HTTP methods used in RESTful APIs?\n",
        "- 4 HTTP methods are used in RESTful APIs and they are-\n",
        "- 1. POST >> To create a new user\n",
        "- 2. GET >> To retrieve the details of existing user\n",
        "- 3. PUT >> To update the information of user\n",
        "- 4. DELETE >> To delete the user\n"
      ],
      "metadata": {
        "id": "FwUwewjZR71n"
      }
    },
    {
      "cell_type": "markdown",
      "source": [
        "7. What is the purpose of the @app.route() decorator in Flask?\n",
        "- @app.route is used to define URLs routes and associating them with specific python functions."
      ],
      "metadata": {
        "id": "GSVHrcQ9Rw7g"
      }
    },
    {
      "cell_type": "markdown",
      "source": [
        "8. What is the difference between GET and POST HTTP methods?\n",
        "- GET method >> Retrieves data from the server with parameters to append URL. It is idempotent, safe to repeat.\n",
        "- POST method >> Sends data to the server to create or update resources. It is not inherently idempotent."
      ],
      "metadata": {
        "id": "jy3wRyhXVV_w"
      }
    },
    {
      "cell_type": "markdown",
      "source": [
        "9. How do you handle errors in Flask APIs?\n",
        "- By using app.errorhandler() decorator to register functions that handle specific HTTP error code or custom exceptions."
      ],
      "metadata": {
        "id": "yc-C4BYsiFYV"
      }
    },
    {
      "cell_type": "markdown",
      "source": [
        "10. How do you connect Flask to a SQL database?\n",
        "- By using 'Flask-SQLAlchemy' extension we can connect Flask to a SQL database."
      ],
      "metadata": {
        "id": "te2ArEIOijIw"
      }
    },
    {
      "cell_type": "markdown",
      "source": [
        "11. What is the role of Flask-SQLAlchemy?\n",
        "- It acts as bridge, simplifying the integration of python and SQL.\n",
        "- It provides ORM (Object Relational Mapper) to interact with database using python objects instead of SQL queries."
      ],
      "metadata": {
        "id": "AnQqjnTPi6IZ"
      }
    },
    {
      "cell_type": "markdown",
      "source": [
        "12. What are Flask blueprints, and how are they useful?\n",
        "- Flask blueprints is a way to organize Flask application into modular and reusable component.\n",
        "- They are useful because blueprints organize large Flask applications by grouping related functionalities together."
      ],
      "metadata": {
        "id": "krbvHShCji76"
      }
    },
    {
      "cell_type": "markdown",
      "source": [
        "13. What is the purpose of Flask's request object?\n",
        "- request object in Flask serves the purpose of accesing all incoming HTTP request data from the client."
      ],
      "metadata": {
        "id": "AYojrOmFkOOs"
      }
    },
    {
      "cell_type": "markdown",
      "source": [
        "14.  How do you create a RESTful API endpoint using Flask?\n",
        "- Creating a RESTful API using Flask involves defining routes that corresponds to specific HTTP methods(GET,POST,PUT,DELETE) for interacting with resources."
      ],
      "metadata": {
        "id": "ZAhw9cq0kkIb"
      }
    },
    {
      "cell_type": "markdown",
      "source": [
        "15.  What is the purpose of Flask's jsonify() function?\n",
        "- Flask's jsonify() function converts Python dictionaries or lists into a JSON(Java Script Object Notation) response."
      ],
      "metadata": {
        "id": "85ey00K1lUTq"
      }
    },
    {
      "cell_type": "markdown",
      "source": [
        "16. Explain Flask's url_for() function?\n",
        "- url_for() function generates dyanmic URL for specific view functions within a Flask application."
      ],
      "metadata": {
        "id": "pWduKYVKmJb7"
      }
    },
    {
      "cell_type": "markdown",
      "source": [
        "17. How does Flask handle static files (CSS, JavaScript, etc.)?\n",
        "- Flask handles static files like HTML,CSS,JS by serving them directly from a designated directory.\n",
        "- eg. - static/css"
      ],
      "metadata": {
        "id": "Y_hbg0WrmptU"
      }
    },
    {
      "cell_type": "markdown",
      "source": [
        "18.  What is an API specification, and how does it help in building a Flask API?\n",
        "- API specification is a document that outlines how an API should interact with other systems. eg. OpenAPI\n",
        "- It helps in building a Flask API by defining it's structure and including end points.\n",
        "- It includes request/response formats and data models ensuring clarity and consistency for both developers and users."
      ],
      "metadata": {
        "id": "lLdA3RSNnNx2"
      }
    },
    {
      "cell_type": "markdown",
      "source": [
        "19. What are HTTP status codes, and why are they important in a Flask API?\n",
        "- HTTP status codes are 3 digit number returned by server to a client's request.\n",
        "- They are important because it serves as a means of communication between server and internet browser."
      ],
      "metadata": {
        "id": "1mxuhGcRpwMU"
      }
    },
    {
      "cell_type": "markdown",
      "source": [
        "20. How do you handle POST requests in Flask?\n",
        "- By defining routes that specifically accepts the POST method and access the incoming data through request object."
      ],
      "metadata": {
        "id": "ydMTwrtZqXdk"
      }
    },
    {
      "cell_type": "markdown",
      "source": [
        "21. How would you secure a Flask API?\n",
        "- By authentication and authorization > Token based authentication and RBAC (Role Based Access Control)\n",
        "- Data security > Secure storage of sensitive data\n",
        "- Proper error handling and logging"
      ],
      "metadata": {
        "id": "8WNoUM7Zq0ty"
      }
    },
    {
      "cell_type": "markdown",
      "source": [
        "22. What is the significance of the Flask-RESTful extension?\n",
        "- Flask-RESTful extension simplifies the development off REST APIs.\n",
        "- Structure and organization > Resource based aapproach\n",
        "- Simplified API development > Buit-in features and integration with Flask\n",
        "- Clear API design and RESTful architecture"
      ],
      "metadata": {
        "id": "c6_q6vI2rebX"
      }
    },
    {
      "cell_type": "markdown",
      "source": [
        "23. What is the role of Flask's session object?\n",
        "- session object provides a way to store user specific data across multiple requests."
      ],
      "metadata": {
        "id": "teB3etK7sNaO"
      }
    }
  ]
}