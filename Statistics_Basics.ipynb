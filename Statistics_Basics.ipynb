{
  "nbformat": 4,
  "nbformat_minor": 0,
  "metadata": {
    "colab": {
      "provenance": []
    },
    "kernelspec": {
      "name": "python3",
      "display_name": "Python 3"
    },
    "language_info": {
      "name": "python"
    }
  },
  "cells": [
    {
      "cell_type": "markdown",
      "source": [
        "THEORY QUESTIONS"
      ],
      "metadata": {
        "id": "x7tQyK14d6t-"
      }
    },
    {
      "cell_type": "markdown",
      "source": [
        "1. What is statistics, and why is it important?\n",
        "- Statistics is mathematical science including methods of collecting, organising and analyzing data in such a way that meaningful conclusions can be drawn from it."
      ],
      "metadata": {
        "id": "S9iYQh8geoVg"
      }
    },
    {
      "cell_type": "markdown",
      "source": [
        "2. What are the two main types of statistics?\n",
        "- Descriptive statistics > Measures of centrsl tendancy, disperion and symmetricity.\n",
        "- Inferential statistics > Probability distribution, Central limit theorem and statistical test."
      ],
      "metadata": {
        "id": "z6SEyTByeV_V"
      }
    },
    {
      "cell_type": "markdown",
      "source": [
        "3. What are descriptive statistics?\n",
        "- It consists of organising and summarising the complete data(population). It is known as Population Summarization.\n",
        "- eg. All match scores of a cricket player"
      ],
      "metadata": {
        "id": "b6QfM1VGfXfc"
      }
    },
    {
      "cell_type": "markdown",
      "source": [
        "4. What is inferential statistics?\n",
        "- It consists of using sample data that has been measured to form conclusion about a population\n",
        "- eg. Population of India, Types of trees in a forest."
      ],
      "metadata": {
        "id": "0GNPYFhhf99y"
      }
    },
    {
      "cell_type": "markdown",
      "source": [
        "5. What is sampling in statistics?\n",
        "- The process of selecting a subset of data points from a larger population to study and draw conclusion about entire population."
      ],
      "metadata": {
        "id": "vfhP-gyFgj68"
      }
    },
    {
      "cell_type": "markdown",
      "source": [
        "6. What are the different types of sampling methods?\n",
        "- Simple Random Sampling (SRS) > Every member of population(N) has equal chance of being selected.  \n",
        "eg. Selection of members from Population of India.\n",
        "- Stratified Sampling > Members are selected from each strata (group/layer) of the dataset.\n",
        "eg. Representation from lesser populated states of India like Nagaland and Mizoram.\n",
        "- Cluster Sampling > Divides the population in the group or cluster. Some of the cluster is randomly selected. All members of that cluster are selected.\n",
        "eg. No. of high covid cases in a state.\n",
        "- Systematic Sampling > Every nth element will be selected.\n",
        "eg. Student with odd roll no, Employees born in leap year."
      ],
      "metadata": {
        "id": "LgKpSySTg-IG"
      }
    },
    {
      "cell_type": "markdown",
      "source": [
        "7. What is the difference between random and non-random sampling?\n",
        "- Random Sampling > Each member has an equal opportunity of being selected.\n",
        "- Non-Random Sampling > Uses specific criteria like convenience, judgment or research choices.\n"
      ],
      "metadata": {
        "id": "5q756OitjRee"
      }
    },
    {
      "cell_type": "markdown",
      "source": [
        "8. Define and give examples of qualitative and quantitative data.\n",
        "- Qualitative Data > Categorical data eg. string data like designation, location.\n",
        "- Quantitative Data > Numerical data eg. salary, rollno, age."
      ],
      "metadata": {
        "id": "hY9Ysbu5kQx3"
      }
    },
    {
      "cell_type": "markdown",
      "source": [
        "9. What are the different types of data in statistics?\n",
        "- Qualitative Data > Categorical data like strings.\n",
        "-- Nominal data > No order naturally. eg. gender, color, blood group.\n",
        "-- Ordinal data > Order in data. eg. rank, grade.\n",
        "- Quantitative Data > Numerical or measureable data.\n",
        "-- Discrete data > Specific finite values (whole no.) eg. no. of children, no. of bank account.\n",
        "-- Continous data > Any value in a range (real no.) eg. height, weight, speed, temprature."
      ],
      "metadata": {
        "id": "u0rS7gK0l84F"
      }
    },
    {
      "cell_type": "markdown",
      "source": [
        "10. Explain nominal, ordinal, interval, and ratio levels of measurement.\n",
        "- Nominal > No order in data. eg. Gender, ethincity, color, location.\n",
        "- Ordinal > Order has a meaning. eg. salary, performance of student, educational qualification.\n",
        "- Interval > Difference can be measured. eg. scores, revenue, temp.\n",
        "- Ratio > Difference and ratio is measureable. eg. height, weight, time."
      ],
      "metadata": {
        "id": "7tsUxTWdmC3i"
      }
    },
    {
      "cell_type": "markdown",
      "source": [
        "11. What is the measure of central tendency?\n",
        "- One value around which data is revolving is measure of central tendency.\n",
        "- Way to summarize a dataset with representative value that indicates where middle oe center of data lies."
      ],
      "metadata": {
        "id": "kdNOMzCvpBuJ"
      }
    },
    {
      "cell_type": "markdown",
      "source": [
        "12. Define mean, median, and mode.\n",
        "- mean > average: arithmetic mid value of data.\n",
        "- median > physical mid point of data.\n",
        "- mode > maximum frequency (repeated highest no. of times)"
      ],
      "metadata": {
        "id": "YH185b1volRW"
      }
    },
    {
      "cell_type": "markdown",
      "source": [
        "13. What is the significance of the measure of central tendency?\n",
        "- It provides a single representative value that summarizes the value or center of a dataset.\n",
        "- This value is important for understanding the data's overall pattern or behaviour."
      ],
      "metadata": {
        "id": "HvNZPGQxqY8V"
      }
    },
    {
      "cell_type": "markdown",
      "source": [
        "14. What is variance, and how is it calculated?\n",
        "- Variance gives spread or dispersion of a data.\n",
        "- Calculated by taking average of squared difference from mean."
      ],
      "metadata": {
        "id": "0J0-ibySjLcT"
      }
    },
    {
      "cell_type": "markdown",
      "source": [
        "15. What is standard deviation, and why is it important?\n",
        "- Standard deviation gives variation of data around the mean.\n",
        "- It is important for measuring spread and dispersion of the data in relation to the mean."
      ],
      "metadata": {
        "id": "Qjr-FpPEsTg2"
      }
    },
    {
      "cell_type": "markdown",
      "source": [
        "16. Define and explain the term range in statistics.\n",
        "- Range is the difference between maximum and minimum value in the data."
      ],
      "metadata": {
        "id": "OpEJyNJctFSh"
      }
    },
    {
      "cell_type": "markdown",
      "source": [
        "17. What is the difference between variance and standard deviation?\n",
        "- Standard deviation is square root of variance.\n",
        "- variance > average sqaured deviation from mean."
      ],
      "metadata": {
        "id": "zz6M0JPetR_x"
      }
    },
    {
      "cell_type": "markdown",
      "source": [
        "18. What is skewness in a dataset?\n",
        "- Skewness is measure of symmetricity in a dataset.\n",
        "- When skewness = 0 is is symmetrical.\n",
        "- When skewness is between -1 and 1 it is moderate symmetric."
      ],
      "metadata": {
        "id": "Io9msfbBt2_b"
      }
    },
    {
      "cell_type": "markdown",
      "source": [
        "19. What does it mean if a dataset is positively or negatively skewed?\n",
        "- Postive skewness > Most of the data lies on the right side. eg. log-normal distribution\n",
        "- Negative skewness > Most of the data lies on the left side."
      ],
      "metadata": {
        "id": "lPl9FwJCuVIi"
      }
    },
    {
      "cell_type": "markdown",
      "source": [
        "20.  Define and explain kurtosis.\n",
        "- Kurtosis gives shape of probability distribution.\n",
        "- It gives peakedness and tailedness of distribution relative to normal distribution."
      ],
      "metadata": {
        "id": "7iI5tZ5Ou6wi"
      }
    },
    {
      "cell_type": "markdown",
      "source": [
        "21. What is the purpose of covariance?\n",
        "- Covariance determines the relationship between two variables."
      ],
      "metadata": {
        "id": "e3egljiXvc5u"
      }
    },
    {
      "cell_type": "markdown",
      "source": [
        "22. What does correlation measure in statistics?\n",
        "- Correlation measures the strength and direction of relationship between two or more variables."
      ],
      "metadata": {
        "id": "yg8Xoirev3x-"
      }
    },
    {
      "cell_type": "markdown",
      "source": [
        "23. What is the difference between covariance and correlation?\n",
        "- Covariance > Indicated direction of relationship (positive or negative)\n",
        "- Correlation > Indicates strength of relationship and is standardized to a range between -1 and +1."
      ],
      "metadata": {
        "id": "dCoOM1Uuw1Q0"
      }
    },
    {
      "cell_type": "markdown",
      "source": [
        "24. What are some real-world applications of statistics?\n",
        "- Healthcare > Research for pharamaceutical drugs.\n",
        "- Finance > Predicting market fluctations.\n",
        "- Election Campaign > Poll survery and exit poll.\n",
        "- Weater forecast > humdity, temp of week.\n",
        "- Sports analytics > SR and avg. of batsman, economy of bowler."
      ],
      "metadata": {
        "id": "h9dRsz8Uxcu7"
      }
    },
    {
      "cell_type": "markdown",
      "source": [
        "PRACTICAL QUESTIONS"
      ],
      "metadata": {
        "id": "dm3POE4LzsQv"
      }
    },
    {
      "cell_type": "markdown",
      "source": [
        "1. How do you calculate the mean, median, and mode of a dataset?"
      ],
      "metadata": {
        "id": "IwAefDK0zyJW"
      }
    },
    {
      "cell_type": "code",
      "source": [
        "data = [1,2,3,3,3,4,4,5,6,6,7,8]\n",
        "import numpy as np\n",
        "print(\"mean =\", np.mean(data))\n",
        "print(\"median =\", np.median(data))\n",
        "import statistics as s\n",
        "print(\"mode =\", s.mode(data))"
      ],
      "metadata": {
        "colab": {
          "base_uri": "https://localhost:8080/"
        },
        "id": "M18UhsYR0GrE",
        "outputId": "e86f454e-19ff-421c-feb9-7ea6e15b72cf"
      },
      "execution_count": null,
      "outputs": [
        {
          "output_type": "stream",
          "name": "stdout",
          "text": [
            "mean = 4.333333333333333\n",
            "median = 4.0\n",
            "mode = 3\n"
          ]
        }
      ]
    },
    {
      "cell_type": "markdown",
      "source": [
        "2. Write a Python program to compute the variance and standard deviation of a dataset."
      ],
      "metadata": {
        "id": "UUlYZ4Io1BQS"
      }
    },
    {
      "cell_type": "code",
      "source": [
        "print(\"variance =\", np.var(data))\n",
        "print(\"standard deviation =\", np.std(data))"
      ],
      "metadata": {
        "colab": {
          "base_uri": "https://localhost:8080/"
        },
        "id": "5ckHeGgU14ud",
        "outputId": "d739326e-cc84-445d-b4b0-c9457d5b3b70"
      },
      "execution_count": null,
      "outputs": [
        {
          "output_type": "stream",
          "name": "stdout",
          "text": [
            "variance = 4.0555555555555545\n",
            "standard deviation = 2.0138409955990952\n"
          ]
        }
      ]
    },
    {
      "cell_type": "markdown",
      "source": [
        "3. Create a dataset and classify it into nominal, ordinal, interval, and ratio types."
      ],
      "metadata": {
        "id": "NtxSzfOH2bLk"
      }
    },
    {
      "cell_type": "code",
      "source": [],
      "metadata": {
        "id": "-EN6Xxwt2fjU"
      },
      "execution_count": null,
      "outputs": []
    },
    {
      "cell_type": "markdown",
      "source": [
        "4.  Implement sampling techniques like random sampling and stratified sampling."
      ],
      "metadata": {
        "id": "Pr_DgUQr3qlq"
      }
    },
    {
      "cell_type": "code",
      "source": [
        "# simple random sampling\n",
        "import random\n",
        "random.sample(data, 3)"
      ],
      "metadata": {
        "colab": {
          "base_uri": "https://localhost:8080/"
        },
        "id": "GZoQvH4o3sHR",
        "outputId": "3161e040-10ed-4e6d-d35f-617ad00a06fa"
      },
      "execution_count": null,
      "outputs": [
        {
          "output_type": "execute_result",
          "data": {
            "text/plain": [
              "[3, 7, 6]"
            ]
          },
          "metadata": {},
          "execution_count": 12
        }
      ]
    },
    {
      "cell_type": "markdown",
      "source": [
        "5. Write a Python function to calculate the range of a dataset."
      ],
      "metadata": {
        "id": "exECE3l14Jlj"
      }
    },
    {
      "cell_type": "code",
      "source": [
        "range = max(data) - min(data)\n",
        "print(\"range of data =\", range)"
      ],
      "metadata": {
        "colab": {
          "base_uri": "https://localhost:8080/"
        },
        "id": "Smj0svaa4OKW",
        "outputId": "e42821a0-3f12-4b10-8064-3c2125ac391c"
      },
      "execution_count": null,
      "outputs": [
        {
          "output_type": "stream",
          "name": "stdout",
          "text": [
            "range of data = 7\n"
          ]
        }
      ]
    },
    {
      "cell_type": "markdown",
      "source": [
        "6. Create a dataset and plot its histogram to visualize skewness."
      ],
      "metadata": {
        "id": "9uHC5vnm4mHv"
      }
    },
    {
      "cell_type": "code",
      "source": [
        "import seaborn as sns\n",
        "print(sns.histplot(data))"
      ],
      "metadata": {
        "colab": {
          "base_uri": "https://localhost:8080/",
          "height": 448
        },
        "id": "6mEB8xQh4rwy",
        "outputId": "a894dc5b-d0fe-41db-acb6-b31056b61fe8"
      },
      "execution_count": null,
      "outputs": [
        {
          "output_type": "stream",
          "name": "stdout",
          "text": [
            "Axes(0.125,0.11;0.775x0.77)\n"
          ]
        },
        {
          "output_type": "display_data",
          "data": {
            "text/plain": [
              "<Figure size 640x480 with 1 Axes>"
            ],
            "image/png": "[encoded data removed]"
          },
          "metadata": {}
        }
      ]
    },
    {
      "cell_type": "markdown",
      "source": [
        "7. Calculate skewness and kurtosis of a dataset using Python libraries."
      ],
      "metadata": {
        "id": "iSznZB-n47Lh"
      }
    },
    {
      "cell_type": "code",
      "source": [
        "from scipy.stats import skew, kurtosis\n",
        "print(\"skewness =\", skew(data))\n",
        "print(\"kurtosis =\", kurtosis(data))"
      ],
      "metadata": {
        "colab": {
          "base_uri": "https://localhost:8080/"
        },
        "id": "8BgfSQs34_vj",
        "outputId": "a468ef13-9e7d-4f9c-bcdc-d74a0d1371ee"
      },
      "execution_count": null,
      "outputs": [
        {
          "output_type": "stream",
          "name": "stdout",
          "text": [
            "skewness = 0.2131368589825282\n",
            "kurtosis = -0.9249390129480193\n"
          ]
        }
      ]
    },
    {
      "cell_type": "markdown",
      "source": [
        "8. Generate a dataset and demonstrate positive and negative skewness.\n"
      ],
      "metadata": {
        "id": "_tKGdGOw5LiP"
      }
    },
    {
      "cell_type": "code",
      "source": [
        "pdata = [85, 88, 92, 94, 96, 98, 100, 100, 100, 100]\n",
        "ndata = [20, 24, 28, 32, 35, 40, 42, 45, 50]\n",
        "print(sns.histplot(pdata))\n",
        "print(sns.histplot(ndata))"
      ],
      "metadata": {
        "colab": {
          "base_uri": "https://localhost:8080/",
          "height": 466
        },
        "id": "6NXaS5yr5Tuu",
        "outputId": "6d726205-a4bd-4efb-fe2a-65fafabad135"
      },
      "execution_count": null,
      "outputs": [
        {
          "output_type": "stream",
          "name": "stdout",
          "text": [
            "Axes(0.125,0.11;0.775x0.77)\n",
            "Axes(0.125,0.11;0.775x0.77)\n"
          ]
        },
        {
          "output_type": "display_data",
          "data": {
            "text/plain": [
              "<Figure size 640x480 with 1 Axes>"
            ],
            "image/png": "[encoded data removed]"
          },
          "metadata": {}
        }
      ]
    },
    {
      "cell_type": "markdown",
      "source": [
        "9. Write a Python script to calculate covariance between two datasets."
      ],
      "metadata": {
        "id": "sqEyU3Ns6Av6"
      }
    },
    {
      "cell_type": "code",
      "source": [
        "d1 = [1,2,3,4,5]\n",
        "d2 = [5,4,3,2,1]\n",
        "np.cov(d1,d2)"
      ],
      "metadata": {
        "colab": {
          "base_uri": "https://localhost:8080/"
        },
        "id": "heGF67-86F8z",
        "outputId": "762f31a7-755d-4780-8766-1a0c2eb648f0"
      },
      "execution_count": null,
      "outputs": [
        {
          "output_type": "execute_result",
          "data": {
            "text/plain": [
              "array([[ 2.5, -2.5],\n",
              "       [-2.5,  2.5]])"
            ]
          },
          "metadata": {},
          "execution_count": 23
        }
      ]
    },
    {
      "cell_type": "markdown",
      "source": [
        "10. Write a Python script to calculate the correlation coefficient between two datasets."
      ],
      "metadata": {
        "id": "eQiZmhug6aqN"
      }
    },
    {
      "cell_type": "code",
      "source": [
        "np.corrcoef(d1,d2)"
      ],
      "metadata": {
        "colab": {
          "base_uri": "https://localhost:8080/"
        },
        "id": "UqtFlH2J6e8j",
        "outputId": "d81bec4c-d4b9-4049-eb61-f8768f6863c5"
      },
      "execution_count": null,
      "outputs": [
        {
          "output_type": "execute_result",
          "data": {
            "text/plain": [
              "array([[ 1., -1.],\n",
              "       [-1.,  1.]])"
            ]
          },
          "metadata": {},
          "execution_count": 24
        }
      ]
    },
    {
      "cell_type": "markdown",
      "source": [
        "11. Create a scatter plot to visualize the relationship between two variables."
      ],
      "metadata": {
        "id": "rHGvehKF6zcv"
      }
    },
    {
      "cell_type": "code",
      "source": [
        "import matplotlib.pyplot as plt\n",
        "plt.scatter(d1,d2)"
      ],
      "metadata": {
        "colab": {
          "base_uri": "https://localhost:8080/",
          "height": 448
        },
        "id": "o_oV4ft167Jp",
        "outputId": "74ea065d-5ba2-4fbb-c8d9-6d3be5733e6f"
      },
      "execution_count": null,
      "outputs": [
        {
          "output_type": "execute_result",
          "data": {
            "text/plain": [
              "<matplotlib.collections.PathCollection at 0x7d5daedf37d0>"
            ]
          },
          "metadata": {},
          "execution_count": 25
        },
        {
          "output_type": "display_data",
          "data": {
            "text/plain": [
              "<Figure size 640x480 with 1 Axes>"
            ],
            "image/png": "[encoded data removed]"
          },
          "metadata": {}
        }
      ]
    },
    {
      "cell_type": "markdown",
      "source": [
        "12. Implement and compare simple random sampling and systematic sampling."
      ],
      "metadata": {
        "id": "K0lz60wG7LhO"
      }
    },
    {
      "cell_type": "code",
      "source": [
        "data=[1,2,3,4,5,6,7,8,9,10]\n",
        "print(\"simple random sampling =\", random.sample(data, 4))\n",
        "print(\"systematic sampling =\", data[::3])"
      ],
      "metadata": {
        "colab": {
          "base_uri": "https://localhost:8080/"
        },
        "id": "EhPI1Ge97RjG",
        "outputId": "325452e5-f7de-48bd-a9a9-279dfd2760e9"
      },
      "execution_count": null,
      "outputs": [
        {
          "output_type": "stream",
          "name": "stdout",
          "text": [
            "simple random sampling = [10, 5, 6, 9]\n",
            "systematic sampling = [1, 4, 7, 10]\n"
          ]
        }
      ]
    },
    {
      "cell_type": "markdown",
      "source": [
        "13. Calculate the mean, median, and mode of grouped data."
      ],
      "metadata": {
        "id": "EZszGTZx8Nub"
      }
    },
    {
      "cell_type": "code",
      "source": [
        "interval = [(10,20),(20,30),(30,40),(40,50)]\n",
        "frequency = [5,8,12,7]\n"
      ],
      "metadata": {
        "id": "xtH6G_dQ8EVC"
      },
      "execution_count": null,
      "outputs": []
    },
    {
      "cell_type": "markdown",
      "source": [
        "14. Simulate data using Python and calculate its central tendency and dispersion."
      ],
      "metadata": {
        "id": "jMWc8VwU8_Aa"
      }
    },
    {
      "cell_type": "code",
      "source": [
        "data = np.random.normal(loc=50, scale=10, size=100)\n",
        "# central tendancy >> mean, median and mode\n",
        "print(\"mean =\", np.mean(data))\n",
        "print(\"median =\", np.median(data))\n",
        "print(\"mode =\", s.mode(data))\n",
        "# measures of dispersion >> range, variance and standard deviation\n",
        "print(\"range =\", np.max(data) - np.min(data))\n",
        "print(\"variance =\", np.var(data))\n",
        "print(\"standard deviation =\", np.std(data))"
      ],
      "metadata": {
        "colab": {
          "base_uri": "https://localhost:8080/"
        },
        "id": "35UNTQYo9A33",
        "outputId": "9a86be44-7948-4f88-9aab-ea9169496263"
      },
      "execution_count": null,
      "outputs": [
        {
          "output_type": "stream",
          "name": "stdout",
          "text": [
            "mean = 47.97287230813553\n",
            "median = 48.674168704230254\n",
            "mode = 17.592264081260296\n",
            "range = 53.009016589662835\n",
            "variance = 108.85407531778769\n",
            "standard deviation = 10.433315643542453\n"
          ]
        }
      ]
    },
    {
      "cell_type": "markdown",
      "source": [
        "15. Use NumPy or pandas to summarize a dataset's descriptive statistics."
      ],
      "metadata": {
        "id": "_21HrK4r-mvs"
      }
    },
    {
      "cell_type": "code",
      "source": [
        "import pandas as pd\n",
        "data = {'c1':[1,2,3,4,5], 'c2':[10,20,30,40,50], 'c3':[100,200,300,400,500]}\n",
        "df = pd.DataFrame(data)\n",
        "df.describe()"
      ],
      "metadata": {
        "colab": {
          "base_uri": "https://localhost:8080/",
          "height": 300
        },
        "id": "16dh_P7j_P93",
        "outputId": "586c3c6e-9962-4926-a10a-3fe10c6c870a"
      },
      "execution_count": null,
      "outputs": [
        {
          "output_type": "execute_result",
          "data": {
            "text/plain": [
              "             c1         c2          c3\n",
              "count  5.000000   5.000000    5.000000\n",
              "mean   3.000000  30.000000  300.000000\n",
              "std    1.581139  15.811388  158.113883\n",
              "min    1.000000  10.000000  100.000000\n",
              "25%    2.000000  20.000000  200.000000\n",
              "50%    3.000000  30.000000  300.000000\n",
              "75%    4.000000  40.000000  400.000000\n",
              "max    5.000000  50.000000  500.000000"
            ],
            "text/html": [
              "\n",
              "  <div id=\"df-95b0af45-00aa-460f-b6cb-d82eabd93d4b\" class=\"colab-df-container\">\n",
              "    <div>\n",
              "<style scoped>\n",
              "    .dataframe tbody tr th:only-of-type {\n",
              "        vertical-align: middle;\n",
              "    }\n",
              "\n",
              "    .dataframe tbody tr th {\n",
              "        vertical-align: top;\n",
              "    }\n",
              "\n",
              "    .dataframe thead th {\n",
              "        text-align: right;\n",
              "    }\n",
              "</style>\n",
              "<table border=\"1\" class=\"dataframe\">\n",
              "  <thead>\n",
              "    <tr style=\"text-align: right;\">\n",
              "      <th></th>\n",
              "      <th>c1</th>\n",
              "      <th>c2</th>\n",
              "      <th>c3</th>\n",
              "    </tr>\n",
              "  </thead>\n",
              "  <tbody>\n",
              "    <tr>\n",
              "      <th>count</th>\n",
              "      <td>5.000000</td>\n",
              "      <td>5.000000</td>\n",
              "      <td>5.000000</td>\n",
              "    </tr>\n",
              "    <tr>\n",
              "      <th>mean</th>\n",
              "      <td>3.000000</td>\n",
              "      <td>30.000000</td>\n",
              "      <td>300.000000</td>\n",
              "    </tr>\n",
              "    <tr>\n",
              "      <th>std</th>\n",
              "      <td>1.581139</td>\n",
              "      <td>15.811388</td>\n",
              "      <td>158.113883</td>\n",
              "    </tr>\n",
              "    <tr>\n",
              "      <th>min</th>\n",
              "      <td>1.000000</td>\n",
              "      <td>10.000000</td>\n",
              "      <td>100.000000</td>\n",
              "    </tr>\n",
              "    <tr>\n",
              "      <th>25%</th>\n",
              "      <td>2.000000</td>\n",
              "      <td>20.000000</td>\n",
              "      <td>200.000000</td>\n",
              "    </tr>\n",
              "    <tr>\n",
              "      <th>50%</th>\n",
              "      <td>3.000000</td>\n",
              "      <td>30.000000</td>\n",
              "      <td>300.000000</td>\n",
              "    </tr>\n",
              "    <tr>\n",
              "      <th>75%</th>\n",
              "      <td>4.000000</td>\n",
              "      <td>40.000000</td>\n",
              "      <td>400.000000</td>\n",
              "    </tr>\n",
              "    <tr>\n",
              "      <th>max</th>\n",
              "      <td>5.000000</td>\n",
              "      <td>50.000000</td>\n",
              "      <td>500.000000</td>\n",
              "    </tr>\n",
              "  </tbody>\n",
              "</table>\n",
              "</div>\n",
              "    <div class=\"colab-df-buttons\">\n",
              "\n",
              "  <div class=\"colab-df-container\">\n",
              "    <button class=\"colab-df-convert\" onclick=\"convertToInteractive('df-95b0af45-00aa-460f-b6cb-d82eabd93d4b')\"\n",
              "            title=\"Convert this dataframe to an interactive table.\"\n",
              "            style=\"display:none;\">\n",
              "\n",
              "  <svg xmlns=\"http://www.w3.org/2000/svg\" height=\"24px\" viewBox=\"0 -960 960 960\">\n",
              "    <path d=\"M120-120v-720h720v720H120Zm60-500h600v-160H180v160Zm220 220h160v-160H400v160Zm0 220h160v-160H400v160ZM180-400h160v-160H180v160Zm440 0h160v-160H620v160ZM180-180h160v-160H180v160Zm440 0h160v-160H620v160Z\"/>\n",
              "  </svg>\n",
              "    </button>\n",
              "\n",
              "  <style>\n",
              "    .colab-df-container {\n",
              "      display:flex;\n",
              "      gap: 12px;\n",
              "    }\n",
              "\n",
              "    .colab-df-convert {\n",
              "      background-color: #E8F0FE;\n",
              "      border: none;\n",
              "      border-radius: 50%;\n",
              "      cursor: pointer;\n",
              "      display: none;\n",
              "      fill: #1967D2;\n",
              "      height: 32px;\n",
              "      padding: 0 0 0 0;\n",
              "      width: 32px;\n",
              "    }\n",
              "\n",
              "    .colab-df-convert:hover {\n",
              "      background-color: #E2EBFA;\n",
              "      box-shadow: 0px 1px 2px rgba(60, 64, 67, 0.3), 0px 1px 3px 1px rgba(60, 64, 67, 0.15);\n",
              "      fill: #174EA6;\n",
              "    }\n",
              "\n",
              "    .colab-df-buttons div {\n",
              "      margin-bottom: 4px;\n",
              "    }\n",
              "\n",
              "    [theme=dark] .colab-df-convert {\n",
              "      background-color: #3B4455;\n",
              "      fill: #D2E3FC;\n",
              "    }\n",
              "\n",
              "    [theme=dark] .colab-df-convert:hover {\n",
              "      background-color: #434B5C;\n",
              "      box-shadow: 0px 1px 3px 1px rgba(0, 0, 0, 0.15);\n",
              "      filter: drop-shadow(0px 1px 2px rgba(0, 0, 0, 0.3));\n",
              "      fill: #FFFFFF;\n",
              "    }\n",
              "  </style>\n",
              "\n",
              "    <script>\n",
              "      const buttonEl =\n",
              "        document.querySelector('#df-95b0af45-00aa-460f-b6cb-d82eabd93d4b button.colab-df-convert');\n",
              "      buttonEl.style.display =\n",
              "        google.colab.kernel.accessAllowed ? 'block' : 'none';\n",
              "\n",
              "      async function convertToInteractive(key) {\n",
              "        const element = document.querySelector('#df-95b0af45-00aa-460f-b6cb-d82eabd93d4b');\n",
              "        const dataTable =\n",
              "          await google.colab.kernel.invokeFunction('convertToInteractive',\n",
              "                                                    [key], {});\n",
              "        if (!dataTable) return;\n",
              "\n",
              "        const docLinkHtml = 'Like what you see? Visit the ' +\n",
              "          '<a target=\"_blank\" href=https://colab.research.google.com/notebooks/data_table.ipynb>data table notebook</a>'\n",
              "          + ' to learn more about interactive tables.';\n",
              "        element.innerHTML = '';\n",
              "        dataTable['output_type'] = 'display_data';\n",
              "        await google.colab.output.renderOutput(dataTable, element);\n",
              "        const docLink = document.createElement('div');\n",
              "        docLink.innerHTML = docLinkHtml;\n",
              "        element.appendChild(docLink);\n",
              "      }\n",
              "    </script>\n",
              "  </div>\n",
              "\n",
              "\n",
              "    <div id=\"df-f8fc94cc-5bad-4e0e-b178-87c65901ffbd\">\n",
              "      <button class=\"colab-df-quickchart\" onclick=\"quickchart('df-f8fc94cc-5bad-4e0e-b178-87c65901ffbd')\"\n",
              "                title=\"Suggest charts\"\n",
              "                style=\"display:none;\">\n",
              "\n",
              "<svg xmlns=\"http://www.w3.org/2000/svg\" height=\"24px\"viewBox=\"0 0 24 24\"\n",
              "     width=\"24px\">\n",
              "    <g>\n",
              "        <path d=\"M19 3H5c-1.1 0-2 .9-2 2v14c0 1.1.9 2 2 2h14c1.1 0 2-.9 2-2V5c0-1.1-.9-2-2-2zM9 17H7v-7h2v7zm4 0h-2V7h2v10zm4 0h-2v-4h2v4z\"/>\n",
              "    </g>\n",
              "</svg>\n",
              "      </button>\n",
              "\n",
              "<style>\n",
              "  .colab-df-quickchart {\n",
              "      --bg-color: #E8F0FE;\n",
              "      --fill-color: #1967D2;\n",
              "      --hover-bg-color: #E2EBFA;\n",
              "      --hover-fill-color: #174EA6;\n",
              "      --disabled-fill-color: #AAA;\n",
              "      --disabled-bg-color: #DDD;\n",
              "  }\n",
              "\n",
              "  [theme=dark] .colab-df-quickchart {\n",
              "      --bg-color: #3B4455;\n",
              "      --fill-color: #D2E3FC;\n",
              "      --hover-bg-color: #434B5C;\n",
              "      --hover-fill-color: #FFFFFF;\n",
              "      --disabled-bg-color: #3B4455;\n",
              "      --disabled-fill-color: #666;\n",
              "  }\n",
              "\n",
              "  .colab-df-quickchart {\n",
              "    background-color: var(--bg-color);\n",
              "    border: none;\n",
              "    border-radius: 50%;\n",
              "    cursor: pointer;\n",
              "    display: none;\n",
              "    fill: var(--fill-color);\n",
              "    height: 32px;\n",
              "    padding: 0;\n",
              "    width: 32px;\n",
              "  }\n",
              "\n",
              "  .colab-df-quickchart:hover {\n",
              "    background-color: var(--hover-bg-color);\n",
              "    box-shadow: 0 1px 2px rgba(60, 64, 67, 0.3), 0 1px 3px 1px rgba(60, 64, 67, 0.15);\n",
              "    fill: var(--button-hover-fill-color);\n",
              "  }\n",
              "\n",
              "  .colab-df-quickchart-complete:disabled,\n",
              "  .colab-df-quickchart-complete:disabled:hover {\n",
              "    background-color: var(--disabled-bg-color);\n",
              "    fill: var(--disabled-fill-color);\n",
              "    box-shadow: none;\n",
              "  }\n",
              "\n",
              "  .colab-df-spinner {\n",
              "    border: 2px solid var(--fill-color);\n",
              "    border-color: transparent;\n",
              "    border-bottom-color: var(--fill-color);\n",
              "    animation:\n",
              "      spin 1s steps(1) infinite;\n",
              "  }\n",
              "\n",
              "  @keyframes spin {\n",
              "    0% {\n",
              "      border-color: transparent;\n",
              "      border-bottom-color: var(--fill-color);\n",
              "      border-left-color: var(--fill-color);\n",
              "    }\n",
              "    20% {\n",
              "      border-color: transparent;\n",
              "      border-left-color: var(--fill-color);\n",
              "      border-top-color: var(--fill-color);\n",
              "    }\n",
              "    30% {\n",
              "      border-color: transparent;\n",
              "      border-left-color: var(--fill-color);\n",
              "      border-top-color: var(--fill-color);\n",
              "      border-right-color: var(--fill-color);\n",
              "    }\n",
              "    40% {\n",
              "      border-color: transparent;\n",
              "      border-right-color: var(--fill-color);\n",
              "      border-top-color: var(--fill-color);\n",
              "    }\n",
              "    60% {\n",
              "      border-color: transparent;\n",
              "      border-right-color: var(--fill-color);\n",
              "    }\n",
              "    80% {\n",
              "      border-color: transparent;\n",
              "      border-right-color: var(--fill-color);\n",
              "      border-bottom-color: var(--fill-color);\n",
              "    }\n",
              "    90% {\n",
              "      border-color: transparent;\n",
              "      border-bottom-color: var(--fill-color);\n",
              "    }\n",
              "  }\n",
              "</style>\n",
              "\n",
              "      <script>\n",
              "        async function quickchart(key) {\n",
              "          const quickchartButtonEl =\n",
              "            document.querySelector('#' + key + ' button');\n",
              "          quickchartButtonEl.disabled = true;  // To prevent multiple clicks.\n",
              "          quickchartButtonEl.classList.add('colab-df-spinner');\n",
              "          try {\n",
              "            const charts = await google.colab.kernel.invokeFunction(\n",
              "                'suggestCharts', [key], {});\n",
              "          } catch (error) {\n",
              "            console.error('Error during call to suggestCharts:', error);\n",
              "          }\n",
              "          quickchartButtonEl.classList.remove('colab-df-spinner');\n",
              "          quickchartButtonEl.classList.add('colab-df-quickchart-complete');\n",
              "        }\n",
              "        (() => {\n",
              "          let quickchartButtonEl =\n",
              "            document.querySelector('#df-f8fc94cc-5bad-4e0e-b178-87c65901ffbd button');\n",
              "          quickchartButtonEl.style.display =\n",
              "            google.colab.kernel.accessAllowed ? 'block' : 'none';\n",
              "        })();\n",
              "      </script>\n",
              "    </div>\n",
              "\n",
              "    </div>\n",
              "  </div>\n"
            ],
            "application/vnd.google.colaboratory.intrinsic+json": {
              "type": "dataframe",
              "summary": "{\n  \"name\": \"df\",\n  \"rows\": 8,\n  \"fields\": [\n    {\n      \"column\": \"c1\",\n      \"properties\": {\n        \"dtype\": \"number\",\n        \"std\": 1.5104848666672712,\n        \"min\": 1.0,\n        \"max\": 5.0,\n        \"num_unique_values\": 6,\n        \"samples\": [\n          5.0,\n          3.0,\n          4.0\n        ],\n        \"semantic_type\": \"\",\n        \"description\": \"\"\n      }\n    },\n    {\n      \"column\": \"c2\",\n      \"properties\": {\n        \"dtype\": \"number\",\n        \"std\": 15.27999762100796,\n        \"min\": 5.0,\n        \"max\": 50.0,\n        \"num_unique_values\": 7,\n        \"samples\": [\n          5.0,\n          30.0,\n          40.0\n        ],\n        \"semantic_type\": \"\",\n        \"description\": \"\"\n      }\n    },\n    {\n      \"column\": \"c3\",\n      \"properties\": {\n        \"dtype\": \"number\",\n        \"std\": 161.81911651702382,\n        \"min\": 5.0,\n        \"max\": 500.0,\n        \"num_unique_values\": 7,\n        \"samples\": [\n          5.0,\n          300.0,\n          400.0\n        ],\n        \"semantic_type\": \"\",\n        \"description\": \"\"\n      }\n    }\n  ]\n}"
            }
          },
          "metadata": {},
          "execution_count": 45
        }
      ]
    },
    {
      "cell_type": "markdown",
      "source": [
        "16. Plot a boxplot to understand the spread and identify outliers."
      ],
      "metadata": {
        "id": "YdgXFIh7_qvG"
      }
    },
    {
      "cell_type": "code",
      "source": [
        "d = [1,2,4,7,8,9,42,56]\n",
        "sns.boxplot(d)"
      ],
      "metadata": {
        "colab": {
          "base_uri": "https://localhost:8080/",
          "height": 429
        },
        "id": "rZSQyg8c_uIh",
        "outputId": "f230af31-fb5b-425c-ec47-821a6da87d3a"
      },
      "execution_count": null,
      "outputs": [
        {
          "output_type": "execute_result",
          "data": {
            "text/plain": [
              "<Axes: >"
            ]
          },
          "metadata": {},
          "execution_count": 46
        },
        {
          "output_type": "display_data",
          "data": {
            "text/plain": [
              "<Figure size 640x480 with 1 Axes>"
            ],
            "image/png": "[encoded data removed]"
          },
          "metadata": {}
        }
      ]
    },
    {
      "cell_type": "markdown",
      "source": [
        "17. Calculate the interquartile range (IQR) of a dataset."
      ],
      "metadata": {
        "id": "ZfX97Xg7_15G"
      }
    },
    {
      "cell_type": "code",
      "source": [
        "data = np.array([14, 19, 20, 22, 24, 26, 27, 30, 30, 31, 36, 38, 44, 47])\n",
        "IQR = np.percentile(data, 75) - np.percentile(data, 25)\n",
        "print(IQR)"
      ],
      "metadata": {
        "colab": {
          "base_uri": "https://localhost:8080/"
        },
        "id": "ZQpMo_be_65q",
        "outputId": "3256d235-c090-4609-a65b-a8a787a793e6"
      },
      "execution_count": null,
      "outputs": [
        {
          "output_type": "stream",
          "name": "stdout",
          "text": [
            "12.25\n"
          ]
        }
      ]
    },
    {
      "cell_type": "markdown",
      "source": [
        "18. Implement Z-score normalization and explain its significance."
      ],
      "metadata": {
        "id": "x6vereVMApSC"
      }
    },
    {
      "cell_type": "code",
      "source": [
        "data = [10,20,30,40,50]\n",
        "n_data = []\n",
        "def normalise_data(data):\n",
        "  mean = np.mean(data)\n",
        "  std  = np.std(data)\n",
        "  return (data-mean)/std\n",
        "\n",
        "n_data = normalise_data(data)\n",
        "print(n_data)"
      ],
      "metadata": {
        "colab": {
          "base_uri": "https://localhost:8080/"
        },
        "id": "hKk94gsbAuBk",
        "outputId": "42a69a20-846f-41e8-fce5-bb94d60823d0"
      },
      "execution_count": null,
      "outputs": [
        {
          "output_type": "stream",
          "name": "stdout",
          "text": [
            "[-1.41421356 -0.70710678  0.          0.70710678  1.41421356]\n"
          ]
        }
      ]
    },
    {
      "cell_type": "markdown",
      "source": [
        "19. Compare two datasets using their standard deviations."
      ],
      "metadata": {
        "id": "aDwlYazIDYhg"
      }
    },
    {
      "cell_type": "code",
      "source": [
        "data1 = [10, 12, 11, 10, 13, 12]\n",
        "data2 = [8, 15, 9, 14, 11, 10]\n",
        "print(\"standard deviation of data1 =\", np.std(data1))\n",
        "print(\"standard deviation of data2 =\", np.std(data2))"
      ],
      "metadata": {
        "colab": {
          "base_uri": "https://localhost:8080/"
        },
        "id": "cd8CXhr0Dbqa",
        "outputId": "366ad2b5-c4ba-489c-8cf7-edb589ff8227"
      },
      "execution_count": null,
      "outputs": [
        {
          "output_type": "stream",
          "name": "stdout",
          "text": [
            "standard deviation of data1 = 1.1055415967851334\n",
            "standard deviation of data2 = 2.5440562537456244\n"
          ]
        }
      ]
    },
    {
      "cell_type": "markdown",
      "source": [
        "20. Write a Python program to visualize covariance using a heatmap."
      ],
      "metadata": {
        "id": "t6G9bNxMD6s2"
      }
    },
    {
      "cell_type": "code",
      "source": [
        "co_matrix = np.cov(d1,d2)\n",
        "sns.heatmap(co_matrix)"
      ],
      "metadata": {
        "colab": {
          "base_uri": "https://localhost:8080/",
          "height": 448
        },
        "id": "PT2F76JjD98e",
        "outputId": "25746bb3-8c2f-441c-f287-0928e2eb5a7d"
      },
      "execution_count": null,
      "outputs": [
        {
          "output_type": "execute_result",
          "data": {
            "text/plain": [
              "<Axes: >"
            ]
          },
          "metadata": {},
          "execution_count": 64
        },
        {
          "output_type": "display_data",
          "data": {
            "text/plain": [
              "<Figure size 640x480 with 2 Axes>"
            ],
            "image/png": "[encoded data removed]"
          },
          "metadata": {}
        }
      ]
    },
    {
      "cell_type": "markdown",
      "source": [
        "21. Use seaborn to create a correlation matrix for a dataset."
      ],
      "metadata": {
        "id": "BI3Zpx46ErBX"
      }
    },
    {
      "cell_type": "code",
      "source": [
        "data1 = [20,25,30,35,40]\n",
        "data2 = [12,18,34,30,36]\n",
        "co_mat = np.corrcoef(data1,data2)\n",
        "sns.heatmap(co_mat, cmap='coolwarm')"
      ],
      "metadata": {
        "colab": {
          "base_uri": "https://localhost:8080/",
          "height": 453
        },
        "id": "xIi-8JVMEvxg",
        "outputId": "8344a040-9a62-4b61-b198-25933a79b96c"
      },
      "execution_count": null,
      "outputs": [
        {
          "output_type": "execute_result",
          "data": {
            "text/plain": [
              "<Axes: >"
            ]
          },
          "metadata": {},
          "execution_count": 71
        },
        {
          "output_type": "display_data",
          "data": {
            "text/plain": [
              "<Figure size 640x480 with 2 Axes>"
            ],
            "image/png": "[encoded data removed]"
          },
          "metadata": {}
        }
      ]
    },
    {
      "cell_type": "markdown",
      "source": [
        "22. Generate a dataset and implement both variance and standard deviation computations."
      ],
      "metadata": {
        "id": "LOzd-3yKFlqU"
      }
    },
    {
      "cell_type": "code",
      "source": [
        "dataset = [10,20,30,40,50]\n",
        "print(\"variance =\", np.var(dataset))\n",
        "print(\"standard deviation =\", np.std(dataset))"
      ],
      "metadata": {
        "colab": {
          "base_uri": "https://localhost:8080/"
        },
        "id": "CVl_Vj3JFo1j",
        "outputId": "273ea4cb-859e-4ee1-d9f3-18d78710d809"
      },
      "execution_count": null,
      "outputs": [
        {
          "output_type": "stream",
          "name": "stdout",
          "text": [
            "variance = 200.0\n",
            "standard deviation = 14.142135623730951\n"
          ]
        }
      ]
    },
    {
      "cell_type": "markdown",
      "source": [
        "23. Visualize skewness and kurtosis using Python libraries like matplotlib or seaborn."
      ],
      "metadata": {
        "id": "xofT1q7IFqpt"
      }
    },
    {
      "cell_type": "code",
      "source": [
        "from scipy.stats import skew, kurtosis\n",
        "data = [10,20,30,40,50]\n",
        "print(\"skewness =\", skew(data))\n",
        "print(\"kurtosis =\", kurtosis(data))"
      ],
      "metadata": {
        "colab": {
          "base_uri": "https://localhost:8080/"
        },
        "id": "IBvmXtm_Ft4L",
        "outputId": "f48ebe0d-93d9-42bc-8244-08558b87870c"
      },
      "execution_count": null,
      "outputs": [
        {
          "output_type": "stream",
          "name": "stdout",
          "text": [
            "skewness = 0.0\n",
            "kurtosis = -1.3\n"
          ]
        }
      ]
    },
    {
      "cell_type": "markdown",
      "source": [
        "24. Implement the Pearson and Spearman correlation coefficients for a dataset."
      ],
      "metadata": {
        "id": "PfKqsUA2FuIR"
      }
    },
    {
      "cell_type": "code",
      "source": [
        "from scipy.stats import pearsonr, spearmanr\n",
        "x = [10,12,15,17,20]\n",
        "y = [12,16,18,22,25]\n",
        "print(\"Pearson coefficient =\", pearsonr(x,y))\n",
        "print(\"Spearman coefficient =\", spearmanr(x,y))"
      ],
      "metadata": {
        "colab": {
          "base_uri": "https://localhost:8080/"
        },
        "id": "Jde5UhYpGDcr",
        "outputId": "a524795d-68ef-4ab5-a361-eb7e25339943"
      },
      "execution_count": null,
      "outputs": [
        {
          "output_type": "stream",
          "name": "stdout",
          "text": [
            "Pearson coefficient = PearsonRResult(statistic=np.float64(0.9887657108578612), pvalue=np.float64(0.0014269838259446486))\n",
            "Spearman coefficient = SignificanceResult(statistic=np.float64(0.9999999999999999), pvalue=np.float64(1.4042654220543672e-24))\n"
          ]
        }
      ]
    }
  ]
}