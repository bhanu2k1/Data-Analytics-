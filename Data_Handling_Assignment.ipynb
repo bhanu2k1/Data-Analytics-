{
  "nbformat": 4,
  "nbformat_minor": 0,
  "metadata": {
    "colab": {
      "provenance": []
    },
    "kernelspec": {
      "name": "python3",
      "display_name": "Python 3"
    },
    "language_info": {
      "name": "python"
    }
  },
  "cells": [
    {
      "cell_type": "markdown",
      "source": [
        "1. How can you open a file for writing in Python and write a string to it?"
      ],
      "metadata": {
        "id": "5794pcrzM1p3"
      }
    },
    {
      "cell_type": "code",
      "source": [
        "file = open(\"file.txt\",\"w\")\n",
        "file.write(\"This is first line in text file.\")\n",
        "file.close()"
      ],
      "metadata": {
        "id": "M9nbxgUJM_DA"
      },
      "execution_count": null,
      "outputs": []
    },
    {
      "cell_type": "markdown",
      "source": [
        "2. Write a Python program to read the contents of a file and print each line."
      ],
      "metadata": {
        "id": "PC0DDfe7NxxD"
      }
    },
    {
      "cell_type": "code",
      "source": [
        "file = open(\"file.txt\",\"r\")\n",
        "file.seek(0)\n",
        "print(file.read())"
      ],
      "metadata": {
        "colab": {
          "base_uri": "https://localhost:8080/"
        },
        "id": "7uiIOY2nN3Mo",
        "outputId": "0e9a027f-0971-41f0-8c7f-89890e445756"
      },
      "execution_count": null,
      "outputs": [
        {
          "output_type": "stream",
          "name": "stdout",
          "text": [
            "This is first line in text file.\n"
          ]
        }
      ]
    },
    {
      "cell_type": "markdown",
      "source": [
        "3. How would you handle a case where the file doesn't exist while trying to open it for reading?"
      ],
      "metadata": {
        "id": "-bB9LjFPOYM_"
      }
    },
    {
      "cell_type": "code",
      "source": [
        "try:\n",
        "  with open(\"sample.txt\",\"r\") as file:\n",
        "    content = file.read()\n",
        "    print(content)\n",
        "except FileNotFoundError as e:\n",
        "  print(\"File not found\",e)"
      ],
      "metadata": {
        "colab": {
          "base_uri": "https://localhost:8080/"
        },
        "id": "4vvcGJrkOdr_",
        "outputId": "518f60c2-e5a9-41e9-ad42-bd5154800530"
      },
      "execution_count": null,
      "outputs": [
        {
          "output_type": "stream",
          "name": "stdout",
          "text": [
            "File not found [Errno 2] No such file or directory: 'sample.txt'\n"
          ]
        }
      ]
    },
    {
      "cell_type": "markdown",
      "source": [
        "4. Write a Python script that reads from one file and writes its content to another file."
      ],
      "metadata": {
        "id": "4sWK4SuRPaPg"
      }
    },
    {
      "cell_type": "code",
      "source": [],
      "metadata": {
        "id": "8gqqwnkwPfF1"
      },
      "execution_count": null,
      "outputs": []
    },
    {
      "cell_type": "markdown",
      "source": [
        "5. How would you catch and handle division by zero error in Python?"
      ],
      "metadata": {
        "id": "-BY3z34EQJ14"
      }
    },
    {
      "cell_type": "code",
      "source": [
        "try:\n",
        "  10/0\n",
        "except ZeroDivisionError as e:\n",
        "  print(f\"Error is: {e}\")"
      ],
      "metadata": {
        "colab": {
          "base_uri": "https://localhost:8080/"
        },
        "id": "gqbgJShKQM7F",
        "outputId": "af6472dd-def8-463c-b66b-12554561ee71"
      },
      "execution_count": null,
      "outputs": [
        {
          "output_type": "stream",
          "name": "stdout",
          "text": [
            "Error is: division by zero\n"
          ]
        }
      ]
    },
    {
      "cell_type": "markdown",
      "source": [
        "6. Write a Python program that logs an error message to a log file when a division by zero exception occurs."
      ],
      "metadata": {
        "id": "FtqhlGfwRBHq"
      }
    },
    {
      "cell_type": "code",
      "source": [
        "import logging\n",
        "logging.basicConfig(filename = \"error.log\", level =\"logging.ERROR\")\n",
        "\n",
        "def divide(a,b):\n",
        "  try:\n",
        "    result = a/b\n",
        "    return result\n",
        "  except ZeroDivisionError:\n",
        "    logging.error(\"Division by zero\")\n",
        "    return None\n",
        "\n",
        "quotient = divide(10,0)\n",
        "if quotient is None:\n",
        "  print(\"Can't divide by zero\")\n",
        "else:\n",
        "  print(quotient)"
      ],
      "metadata": {
        "colab": {
          "base_uri": "https://localhost:8080/"
        },
        "id": "RDeWM33yRHpg",
        "outputId": "ad40e6eb-b5c4-4c2b-a053-739c3b8262e9"
      },
      "execution_count": null,
      "outputs": [
        {
          "output_type": "stream",
          "name": "stderr",
          "text": [
            "ERROR:root:Division by zero\n"
          ]
        },
        {
          "output_type": "stream",
          "name": "stdout",
          "text": [
            "Can't divide by zero\n"
          ]
        }
      ]
    },
    {
      "cell_type": "markdown",
      "source": [
        "7. How do you log information at different levels (INFO, ERROR, WARNING) in Python using the logging module?"
      ],
      "metadata": {
        "id": "knfTUt5iSyVv"
      }
    },
    {
      "cell_type": "code",
      "source": [
        "import logging\n",
        "logging.basicConfig(filename = \"test.txt\", level = logging.INFO)\n",
        "logging.info(\"Normal information\")\n",
        "logging.warning(\"Empty list\")\n",
        "logging.error(\"Some error\")"
      ],
      "metadata": {
        "colab": {
          "base_uri": "https://localhost:8080/"
        },
        "id": "DnnEYIzLTLF1",
        "outputId": "ade7ad3e-20bc-4eed-d0dc-af6c1109c14d"
      },
      "execution_count": null,
      "outputs": [
        {
          "output_type": "stream",
          "name": "stderr",
          "text": [
            "WARNING:root:Empty list\n",
            "ERROR:root:Some error\n"
          ]
        }
      ]
    },
    {
      "cell_type": "markdown",
      "source": [
        "8. Write a program to handle a file opening error using exception handling."
      ],
      "metadata": {
        "id": "-EequinCT3Bl"
      }
    },
    {
      "cell_type": "code",
      "source": [
        "try:\n",
        "  f = open(\"example.txt\",\"r\")\n",
        "  file.read()\n",
        "except FileNotFoundError as e:\n",
        "  print(\"File not created\",e)\n",
        "else:\n",
        "  file.close()\n",
        "finally:\n",
        "  print(\"File created and opened\")"
      ],
      "metadata": {
        "colab": {
          "base_uri": "https://localhost:8080/"
        },
        "id": "K1p7TK6bT8Ec",
        "outputId": "a3a6c1ef-0882-4bc2-ad25-f22f8d2c2887"
      },
      "execution_count": null,
      "outputs": [
        {
          "output_type": "stream",
          "name": "stdout",
          "text": [
            "File not created [Errno 2] No such file or directory: 'example.txt'\n",
            "File created and opened\n"
          ]
        }
      ]
    },
    {
      "cell_type": "markdown",
      "source": [
        "9. How can you read a file line by line and store its content in a list in Python?"
      ],
      "metadata": {
        "id": "DB1nRkSlVJoZ"
      }
    },
    {
      "cell_type": "code",
      "source": [
        "with open(\"file.txt\",\"w\") as f:\n",
        "  f.write(\"This is first line\\n\")\n",
        "  f.write(\"This is second line\\n\")\n",
        "  f.write(\"This is third line\")\n",
        "\n",
        "with open(\"file.txt\", \"r\") as f:\n",
        "  line = f.readlines()\n",
        "  print(line)"
      ],
      "metadata": {
        "colab": {
          "base_uri": "https://localhost:8080/"
        },
        "id": "hEVtXsjAVPwb",
        "outputId": "6c50a3ee-c24e-4b3f-da49-e1672d98ee94"
      },
      "execution_count": null,
      "outputs": [
        {
          "output_type": "stream",
          "name": "stdout",
          "text": [
            "['This is first line\\n', 'This is second line\\n', 'This is third line']\n"
          ]
        }
      ]
    },
    {
      "cell_type": "markdown",
      "source": [
        "10. How can you append data to an existing file in Python?"
      ],
      "metadata": {
        "id": "Ija73FqnWUBk"
      }
    },
    {
      "cell_type": "code",
      "source": [
        "file = open(\"file.txt\",\"a\")\n",
        "file.write(\"\\nThis is fourth line\")\n",
        "file.close()\n",
        "file = open(\"file.txt\",\"r\")\n",
        "print(file.read())"
      ],
      "metadata": {
        "colab": {
          "base_uri": "https://localhost:8080/"
        },
        "id": "NKply7jpWZLP",
        "outputId": "0bebeb53-f783-44b5-8a49-5255cb4122d7"
      },
      "execution_count": null,
      "outputs": [
        {
          "output_type": "stream",
          "name": "stdout",
          "text": [
            "This is first line\n",
            "This is second line\n",
            "This is third line\n",
            "This is fourth line\n"
          ]
        }
      ]
    },
    {
      "cell_type": "markdown",
      "source": [
        "11. Write a Python program that uses a try-except block to handle an error when attempting to access a dictionary key that doesn't exist."
      ],
      "metadata": {
        "id": "MBOYMJuPWtoB"
      }
    },
    {
      "cell_type": "code",
      "source": [
        "def access_dict_key(key,value):\n",
        "  try:\n",
        "    value = my_dict[key]\n",
        "    print(f\"Value for {key} is {value}\")\n",
        "  except KeyError:\n",
        "    print(f\"Key {key} not found in dictionary\")\n",
        "\n",
        "my_dict ={\"apple\":1,\"banana\":2,\"orange\":3}\n",
        "access_dict_key(\"mango\",my_dict)"
      ],
      "metadata": {
        "colab": {
          "base_uri": "https://localhost:8080/"
        },
        "id": "54m-vQKEW2xP",
        "outputId": "86e9e07f-dc97-4c75-e3d2-e14a0515d275"
      },
      "execution_count": null,
      "outputs": [
        {
          "output_type": "stream",
          "name": "stdout",
          "text": [
            "Key mango not found in dictionary\n"
          ]
        }
      ]
    },
    {
      "cell_type": "markdown",
      "source": [
        "12. Write a program that demonstrates using multiple except blocks to handle different types of exceptions."
      ],
      "metadata": {
        "id": "gBWK-evzX7zx"
      }
    },
    {
      "cell_type": "code",
      "source": [
        "def divison(a,b):\n",
        "  a/b\n",
        "try:\n",
        "  divison(10,\"zero\")\n",
        "except ZeroDivisionError as e:\n",
        "  print(f\"Error is: {e}\")\n",
        "except TypeError as e:\n",
        "  print(f\"Error is: {e}\")"
      ],
      "metadata": {
        "colab": {
          "base_uri": "https://localhost:8080/"
        },
        "id": "08dSY4JRYBQJ",
        "outputId": "e19e7b79-4f56-492f-d07c-276feea8f4d0"
      },
      "execution_count": null,
      "outputs": [
        {
          "output_type": "stream",
          "name": "stdout",
          "text": [
            "Error is: unsupported operand type(s) for /: 'int' and 'str'\n"
          ]
        }
      ]
    },
    {
      "cell_type": "markdown",
      "source": [
        "13. How would you check if a file exists before attempting to read it in Python?"
      ],
      "metadata": {
        "id": "b8O5_pVNY1C2"
      }
    },
    {
      "cell_type": "code",
      "source": [
        "import os\n",
        "file_path = \"path/to/your/file.txt\"\n",
        "if os.path.exists(file_path):\n",
        "  try:\n",
        "    with open(file_path,\"r\") as f:\n",
        "      content = f.read()\n",
        "      print(content)\n",
        "  except FileNotFoundError:\n",
        "    print(f\"File {file_path} not found\")\n",
        "else:\n",
        "  print(f\"File {file_path} does not exist\")"
      ],
      "metadata": {
        "colab": {
          "base_uri": "https://localhost:8080/"
        },
        "id": "sVyYjrakY9Ps",
        "outputId": "be5888c5-35a9-46ce-8b6c-cef95f15e7a0"
      },
      "execution_count": null,
      "outputs": [
        {
          "output_type": "stream",
          "name": "stdout",
          "text": [
            "File path/to/your/file.txt does not exist\n"
          ]
        }
      ]
    },
    {
      "cell_type": "markdown",
      "source": [
        "14. Write a program that uses the logging module to log both informational and error messages."
      ],
      "metadata": {
        "id": "pvAkMuy5ZstM"
      }
    },
    {
      "cell_type": "code",
      "source": [
        "import logging\n",
        "logging.basicConfig(filename=\"sample.txt\",level=logging.INFO)\n",
        "logging.info(\"This is informational message\")\n",
        "logging.error(\"This is error message\")"
      ],
      "metadata": {
        "colab": {
          "base_uri": "https://localhost:8080/"
        },
        "id": "Ih8S8VhdZ8rG",
        "outputId": "61735f06-0e0c-4509-9ddb-2473308f9841"
      },
      "execution_count": null,
      "outputs": [
        {
          "output_type": "stream",
          "name": "stderr",
          "text": [
            "ERROR:root:This is error message\n"
          ]
        }
      ]
    },
    {
      "cell_type": "markdown",
      "source": [
        "15. Write a Python program that prints the content of a file and handles the case when the file is empty."
      ],
      "metadata": {
        "id": "4_90x5YcaLpu"
      }
    },
    {
      "cell_type": "code",
      "source": [
        "try:\n",
        "  with open(\"sample.txt\",\"w\") as f:\n",
        "    f.close()\n",
        "    print(f.read())\n",
        "except FileNotFoundError as e:\n",
        "  print(\"File not found\",e)\n",
        "except:\n",
        "  print(\"File is empty\")"
      ],
      "metadata": {
        "colab": {
          "base_uri": "https://localhost:8080/"
        },
        "id": "TgiVP217aQ3o",
        "outputId": "386b3a0b-8b31-4efb-f189-73cade978cfb"
      },
      "execution_count": null,
      "outputs": [
        {
          "output_type": "stream",
          "name": "stdout",
          "text": [
            "File is empty\n"
          ]
        }
      ]
    },
    {
      "cell_type": "markdown",
      "source": [
        "16. Demonstrate how to use memory profiling to check the memory usage of a small program."
      ],
      "metadata": {
        "id": "8rtV-s04bdYV"
      }
    },
    {
      "cell_type": "code",
      "source": [],
      "metadata": {
        "id": "ftmG_UEmbisy"
      },
      "execution_count": null,
      "outputs": []
    },
    {
      "cell_type": "markdown",
      "source": [
        "17. Write a Python program to create and write a list of numbers to a file, one number per line."
      ],
      "metadata": {
        "id": "ZOPlsO2KcXwR"
      }
    },
    {
      "cell_type": "code",
      "source": [
        "def number_file(filename,numbers):\n",
        "  with open(filename,\"w\") as f:\n",
        "    for number in numbers:\n",
        "      f.write(str(number) + \"\\n\")\n",
        "numbers = [1,2,3,4,5]\n",
        "filename = \"numbers.txt\"\n",
        "number_file(filename,numbers)\n",
        "f = open(\"numbers.txt\",\"r\")\n",
        "print(f.read())"
      ],
      "metadata": {
        "colab": {
          "base_uri": "https://localhost:8080/"
        },
        "id": "IErao6Agcclp",
        "outputId": "01b3d9a6-01be-4852-f223-6d6c98e784dd"
      },
      "execution_count": null,
      "outputs": [
        {
          "output_type": "stream",
          "name": "stdout",
          "text": [
            "1\n",
            "2\n",
            "3\n",
            "4\n",
            "5\n",
            "\n"
          ]
        }
      ]
    },
    {
      "cell_type": "markdown",
      "source": [
        "18. How would you implement a basic logging setup that logs to a file with rotation after 1MB?"
      ],
      "metadata": {
        "id": "zuSJrfvbdai6"
      }
    },
    {
      "cell_type": "code",
      "source": [
        "import logging\n",
        "import logging.handlers\n",
        "\n",
        "logger = logging.getLogger(\"my_logger\")\n",
        "logger.setLevel(logging.INFO)\n",
        "handler = logging.handlers.RotatingFileHandler(\"app.log\", maxBytes = 1024*1024, backupCount=5)"
      ],
      "metadata": {
        "id": "36ZN7KoaeB6c"
      },
      "execution_count": null,
      "outputs": []
    },
    {
      "cell_type": "markdown",
      "source": [
        "19. Write a program that handles both IndexError and KeyError using a try-except block."
      ],
      "metadata": {
        "id": "l8sDyak2e3Tc"
      }
    },
    {
      "cell_type": "code",
      "source": [
        "try:\n",
        "  my_list = [1,2,3]\n",
        "  print(my_list[3])\n",
        "except IndexError as e:\n",
        "  print(f\"Error is: {e}\")\n",
        "except KeyError as e:\n",
        "  print(f\"Error is: {e}\")"
      ],
      "metadata": {
        "colab": {
          "base_uri": "https://localhost:8080/"
        },
        "id": "IYrOfWwfe8Bf",
        "outputId": "a50dd376-dcdc-4340-ca43-a8f83f71e770"
      },
      "execution_count": null,
      "outputs": [
        {
          "output_type": "stream",
          "name": "stdout",
          "text": [
            "Error is: list index out of range\n"
          ]
        }
      ]
    },
    {
      "cell_type": "markdown",
      "source": [
        "20. How would you open a file and read its contents using a context manager in Python?"
      ],
      "metadata": {
        "id": "Sd40yPa_fC83"
      }
    },
    {
      "cell_type": "code",
      "source": [
        "file_path = \"sample.txt\"\n",
        "try:\n",
        "  with open(file_path,\"r\") as file:\n",
        "    content = file.read()\n",
        "    print(content)\n",
        "except FileNotFoundError as e:\n",
        "  print(\"File not found\",e)\n",
        "except Exception as e:\n",
        "  print(\"Error\",e)"
      ],
      "metadata": {
        "colab": {
          "base_uri": "https://localhost:8080/"
        },
        "id": "W8C7vKGufI6V",
        "outputId": "c332267d-22cd-4012-dd13-8d3a3ccfc753"
      },
      "execution_count": null,
      "outputs": [
        {
          "output_type": "stream",
          "name": "stdout",
          "text": [
            "\n"
          ]
        }
      ]
    },
    {
      "cell_type": "markdown",
      "source": [
        "21. Write a Python program that reads a file and prints the number of occurrences of a specific word."
      ],
      "metadata": {
        "id": "CNHyFxqHfsm5"
      }
    },
    {
      "cell_type": "code",
      "source": [
        "def count_word(file_path,word):\n",
        "  try:\n",
        "    with open(file_path,\"r\") as f:\n",
        "      content = f.read()\n",
        "      count = content.lower().split().count(word.lower())\n",
        "      return count\n",
        "  except FileNotFoundError as e:\n",
        "    print(\"File not found\",e)\n",
        "file_path = \"sample.txt\"\n",
        "word = \"basic\"\n",
        "count = count_word(file_path,word)\n",
        "print(f\"The word '{word}' appears {count} times in the file.\")"
      ],
      "metadata": {
        "colab": {
          "base_uri": "https://localhost:8080/"
        },
        "id": "8NWr9Quvfwnd",
        "outputId": "fe84f20a-849e-4294-8e9e-3547c159d26c"
      },
      "execution_count": null,
      "outputs": [
        {
          "output_type": "stream",
          "name": "stdout",
          "text": [
            "The word 'basic' appears 0 times in the file.\n"
          ]
        }
      ]
    },
    {
      "cell_type": "markdown",
      "source": [
        "22. How can you check if a file is empty before attempting to read its contents?"
      ],
      "metadata": {
        "id": "DmpXUVbFg7wW"
      }
    },
    {
      "cell_type": "code",
      "source": [
        "import os\n",
        "file_path = \"sample.txt\"\n",
        "if os.path.getsize(file_path) == 0:\n",
        "  print(\"File is empty\")\n",
        "else:\n",
        "  print(\"File is not empty\")"
      ],
      "metadata": {
        "colab": {
          "base_uri": "https://localhost:8080/"
        },
        "id": "X_jKKUffhAB_",
        "outputId": "0ca6d3e0-70cc-4548-da0f-09ab87609df0"
      },
      "execution_count": null,
      "outputs": [
        {
          "output_type": "stream",
          "name": "stdout",
          "text": [
            "File is empty\n"
          ]
        }
      ]
    },
    {
      "cell_type": "markdown",
      "source": [
        "23. Write a Python program that writes to a log file when an error occurs during file handling."
      ],
      "metadata": {
        "id": "C5IKJOtRhZkb"
      }
    },
    {
      "cell_type": "code",
      "source": [
        "import logging\n",
        "logging.basicConfig(file_name = \"sample.txt\", level = logging.ERROR)\n",
        "\n",
        "def process(file_name):\n",
        "  try:\n",
        "    with open(file_name,\"r\") as f:\n",
        "      content = f.read()\n",
        "      print(f\"File {file_name} processed sucessfully\")\n",
        "      return content\n",
        "  except FileNotFoundError:\n",
        "    logging.error(f\"File {file_name} not found\")\n",
        "    return None\n",
        "  except Exception as e:\n",
        "    logging.error(f\"Error processing file {file_name}: {str(e)}\")\n",
        "    return None\n",
        "process(\"test.txt\")"
      ],
      "metadata": {
        "colab": {
          "base_uri": "https://localhost:8080/"
        },
        "id": "2hkIflqthgh0",
        "outputId": "2d8316d8-d7fb-4aef-beef-d1dcc488a7c4"
      },
      "execution_count": null,
      "outputs": [
        {
          "output_type": "stream",
          "name": "stderr",
          "text": [
            "ERROR:root:File test.txt not found\n"
          ]
        }
      ]
    },
    {
      "cell_type": "markdown",
      "source": [
        "THEORY QUESTIONS"
      ],
      "metadata": {
        "id": "iO1sQm7djnS9"
      }
    },
    {
      "cell_type": "markdown",
      "source": [
        "1. What is the difference between interpreted and compiled languages?\n",
        "\n",
        "- Interpreted languagues are compiled line by line by an interpreter. Ex: Python and Javascript\n",
        "\n",
        "- While compiled languages translate entire code in machine language before execution. Ex: C and C++"
      ],
      "metadata": {
        "id": "49u7ChNYjsmS"
      }
    },
    {
      "cell_type": "markdown",
      "source": [
        "2. What is exception handling in Python?\n",
        "- To handle errors while execution of the program.\n",
        "Ex: TypeError, DivisionError, FileNotFound."
      ],
      "metadata": {
        "id": "MC7cgR2skYwC"
      }
    },
    {
      "cell_type": "markdown",
      "source": [
        "3. What is the purpose of the finally block in exception handling?\n",
        "- Finally block always executes ensuring exception is thrown or not."
      ],
      "metadata": {
        "id": "sFomeYWmlSe-"
      }
    },
    {
      "cell_type": "markdown",
      "source": [
        "4. What is logging in Python?\n",
        "- Logging is monitoring and debugging during execution of program."
      ],
      "metadata": {
        "id": "6kNRzDkTlrkO"
      }
    },
    {
      "cell_type": "markdown",
      "source": [
        "5. What is the significance of the __del__ method in Python?\n",
        "- Destructor is special method which is called when an object is to be destroyed."
      ],
      "metadata": {
        "id": "N3sCbmfemANx"
      }
    },
    {
      "cell_type": "markdown",
      "source": [
        "6. What is the difference between import and from ... import in Python?\n",
        "- import >> entire module is imported to access functions, classes or variables.\n",
        "- from import >> specific elements are imported idirectly into current namespace."
      ],
      "metadata": {
        "id": "YiOzMuMqmQFm"
      }
    },
    {
      "cell_type": "markdown",
      "source": [
        "7. How can you handle multiple exceptions in Python?\n",
        "- For handling multiple exception we use try, except, else and finally clauses."
      ],
      "metadata": {
        "id": "_t8KVkVim74J"
      }
    },
    {
      "cell_type": "markdown",
      "source": [
        "8. What is the purpose of the with statement when handling files in Python?\n",
        "- With >> used for resource management in file handling. Proper opening and closing of files."
      ],
      "metadata": {
        "id": "k3sMYsXXnO8j"
      }
    },
    {
      "cell_type": "markdown",
      "source": [
        "9. What is the difference between multithreading and multiprocessing?\n",
        "- Multithreading >> happens on single processor and threads share same memory space. Concurrent due to GIL (Global Interpreter Lock) Ex: I/O bound tasks like downloading a huge file.\n",
        "- Multiprocessing >> Multiple cores are used, each process has its own memory space and resorces are isolated. Truly parallel on CPU cores. Ex: Server Handling and big computation tasks."
      ],
      "metadata": {
        "id": "JJchSfU0np6w"
      }
    },
    {
      "cell_type": "markdown",
      "source": [
        "10. What are the advantages of using logging in a program?\n",
        "- To understand behaviour of application\n",
        "- To debug unexpected issues for simply tracking events"
      ],
      "metadata": {
        "id": "FkUASWC-osyC"
      }
    },
    {
      "cell_type": "markdown",
      "source": [
        "11. What is memory management in Python?\n",
        "- The way in which python stores variables, functions, classes, modules, packages is memory management. It is done in static and dynamic ways."
      ],
      "metadata": {
        "id": "2UF9mm4Qo_PZ"
      }
    },
    {
      "cell_type": "markdown",
      "source": [
        "12. What are the basic steps involved in exception handling in Python?\n",
        "- try block and except block where specific errors are written and then finally block which is optional.\n"
      ],
      "metadata": {
        "id": "Gr6Wtbi0pfIn"
      }
    },
    {
      "cell_type": "markdown",
      "source": [
        "13. Why is memory management important in Python?\n",
        "- Directly impacts the performance and stability of the program\n",
        "- Python follows dynamic memory allocation and garbage collection"
      ],
      "metadata": {
        "id": "wC-Uqr8fp61y"
      }
    },
    {
      "cell_type": "markdown",
      "source": [
        "14. What is the role of try and except in exception handling?\n",
        "- try and except blocks work together to handle errors that might occur during execution of program."
      ],
      "metadata": {
        "id": "MGFaIYkMqaTO"
      }
    },
    {
      "cell_type": "markdown",
      "source": [
        "15. How does Python's garbage collection system work?\n",
        "- Automatic manages memory by freeing up space of objects that are no longer in use."
      ],
      "metadata": {
        "id": "yJA_SvfUqvb5"
      }
    },
    {
      "cell_type": "markdown",
      "source": [
        "16. What is the purpose of the else block in exception handling?\n",
        "- else block executes only if try block runs without raising any exceptions."
      ],
      "metadata": {
        "id": "DdvxPZh1rGWH"
      }
    },
    {
      "cell_type": "markdown",
      "source": [
        "17.  What are the common logging levels in Python?\n",
        "- debug, info, warning, error, critical."
      ],
      "metadata": {
        "id": "xVD2oQlIriOo"
      }
    },
    {
      "cell_type": "markdown",
      "source": [
        "18. What is the difference between os.fork() and multiprocessing in Python?\n",
        "- os.fork() - low level system call, copy on write.\n",
        "- multiprocessing - high level abstraction, process isolation."
      ],
      "metadata": {
        "id": "JAUnbSFGrv1g"
      }
    },
    {
      "cell_type": "markdown",
      "source": [
        "19.  What is the importance of closing a file in Python?\n",
        "- It is important for resource management, data integrity, file access and code maintainability."
      ],
      "metadata": {
        "id": "oSV6tnFxrb1m"
      }
    },
    {
      "cell_type": "markdown",
      "source": [
        "20. What is the difference between file.read() and file.readline() in Python?\n",
        "- file.read() - reads the entire content of the file.\n",
        "- file.readline() - reads a single line from the file. Efficient for large files."
      ],
      "metadata": {
        "id": "ALCGyxvqVX_z"
      }
    },
    {
      "cell_type": "markdown",
      "source": [
        "21. What is the logging module in Python used for?\n",
        "- Logging module in python is used for tracking events and record information during program execution.  \n",
        "Ex: debugging, monitoring and troubleshooting."
      ],
      "metadata": {
        "id": "-xuyk6_7V82C"
      }
    },
    {
      "cell_type": "markdown",
      "source": [
        "22. What is the os module in Python used for in file handling?\n",
        "- os module is used for interacting with operating system to perfromr file and directory manipulation."
      ],
      "metadata": {
        "id": "XCCvKclJYIH4"
      }
    },
    {
      "cell_type": "markdown",
      "source": [
        "23. What are the challenges associated with memory management in Python?\n",
        "- Memory Fragmentaion\n",
        "- Memory Leaks\n",
        "- Garbage collection issues\n",
        "- High memory consumption\n",
        "- Memory errors and bloat"
      ],
      "metadata": {
        "id": "1tM_m0mFWU3E"
      }
    },
    {
      "cell_type": "markdown",
      "source": [
        "24. How do you raise an exception manually in Python?\n",
        "- By using raise keyword followed by the exception class.\n",
        "- syntax: raise Exceptiontype(\"Error Message\")"
      ],
      "metadata": {
        "id": "3bIJIn_DZt1i"
      }
    },
    {
      "cell_type": "markdown",
      "source": [
        "25. Why is it important to use multithreading in certain applications?\n",
        "- By using multithreading applications can improve performance, responsiveness and scalability."
      ],
      "metadata": {
        "id": "wNi6_GJbaY9b"
      }
    }
  ]
}